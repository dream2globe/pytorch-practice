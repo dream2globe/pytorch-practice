{
 "cells": [
  {
   "cell_type": "markdown",
   "id": "accessible-formation",
   "metadata": {},
   "source": [
    "# What are Tensors?"
   ]
  },
  {
   "cell_type": "markdown",
   "id": "final-lesbian",
   "metadata": {},
   "source": [
    "## Tensors"
   ]
  },
  {
   "cell_type": "markdown",
   "id": "lovely-company",
   "metadata": {},
   "source": [
    "텐서는 배열, 행렬과 매우 유사한 데이터 구조입니다. Pytorch에서는 텐서를 사용하여 모델의 입력과 출력, 모델의 매개변수를 인코딩합니다. \n",
    "\n",
    "텐서는 GPU 또는 다른 하드웨어 가속기를 사용할 수 있는 점을 제외하고 [NumPy](https://numpy.org/)의 ndarrays와 유사합니다. 사실, 텐서와 Numpy 배열은 종종 동일한 메모리를 공유할 수 있으므로 데이터를 복사할 필요가 없습니다. 텐서는 또한 자동 미분에 최적화되어 있습니다(Autograd 단원에서 살펴볼 것입니다). `ndarrays`가 익숙하다면 텐서 API를 바로 살펴보고, 그렇지 않다면 아래를 따라해보시기 바랍니다. \n",
    "\n",
    "먼저 환경을 설정해봅시다. "
   ]
  },
  {
   "cell_type": "code",
   "execution_count": 1,
   "id": "emotional-linux",
   "metadata": {},
   "outputs": [],
   "source": [
    "import torch\n",
    "import numpy as np"
   ]
  },
  {
   "cell_type": "markdown",
   "id": "aging-question",
   "metadata": {},
   "source": [
    "## Initializing a Tensor\n",
    "텐서는 다양한 방법으로 초기화할 수 있습니다. \n",
    "\n",
    "### Directly from data\n",
    "텐서는 데이터를 통해 직접 생성될 수 있습니다. 데이터형은 자동으로 추론됩니다."
   ]
  },
  {
   "cell_type": "code",
   "execution_count": 2,
   "id": "wooden-serbia",
   "metadata": {},
   "outputs": [
    {
     "data": {
      "text/plain": [
       "tensor([[1, 2],\n",
       "        [3, 4]])"
      ]
     },
     "execution_count": 2,
     "metadata": {},
     "output_type": "execute_result"
    }
   ],
   "source": [
    "data = [[1, 2], [3, 4]]\n",
    "x_data = torch.tensor(data)\n",
    "x_data"
   ]
  },
  {
   "cell_type": "markdown",
   "id": "diverse-corporation",
   "metadata": {},
   "source": [
    "### From a NumPy array\n",
    "텐서는 Numpy 배열을 통해 생성될 수 있습니다(and vice versa - see `bridge-to-np-label`). "
   ]
  },
  {
   "cell_type": "code",
   "execution_count": 3,
   "id": "major-revelation",
   "metadata": {},
   "outputs": [
    {
     "data": {
      "text/plain": [
       "tensor([[1, 2],\n",
       "        [3, 4]])"
      ]
     },
     "execution_count": 3,
     "metadata": {},
     "output_type": "execute_result"
    }
   ],
   "source": [
    "np_array = np.array(data)\n",
    "x_np = torch.from_numpy(np_array)\n",
    "x_np"
   ]
  },
  {
   "cell_type": "markdown",
   "id": "opponent-graph",
   "metadata": {},
   "source": [
    "### From another tensor\n",
    "새로운 텐서는 명시적으로 재정의하지 않는 한 인수의 텐서 속송(모양, 데이터 유형)을 유지합니다."
   ]
  },
  {
   "cell_type": "code",
   "execution_count": 4,
   "id": "fallen-trunk",
   "metadata": {},
   "outputs": [
    {
     "name": "stdout",
     "output_type": "stream",
     "text": [
      "tensor([[1, 1],\n",
      "        [1, 1]])\n",
      "tensor([[0.4840, 0.4708],\n",
      "        [0.7626, 0.1482]])\n"
     ]
    }
   ],
   "source": [
    "x_ones = torch.ones_like(x_data)\n",
    "print(x_ones)\n",
    "\n",
    "x_rand = torch.rand_like(x_data, dtype=torch.float)\n",
    "print(x_rand)"
   ]
  },
  {
   "cell_type": "markdown",
   "id": "neural-mistake",
   "metadata": {},
   "source": [
    "### With random or constant values\n",
    "`shape` 텐서 차원을 나타내는 튜플입니다. 아래 함수에서 출력 텐서의 차원이 결정됩니다. "
   ]
  },
  {
   "cell_type": "code",
   "execution_count": 5,
   "id": "satisfied-hungarian",
   "metadata": {},
   "outputs": [
    {
     "name": "stdout",
     "output_type": "stream",
     "text": [
      "tensor([[0.3313, 0.1497, 0.9364],\n",
      "        [0.4669, 0.1817, 0.8417]])\n",
      "tensor([[1., 1., 1.],\n",
      "        [1., 1., 1.]])\n",
      "tensor([[0., 0., 0.],\n",
      "        [0., 0., 0.]])\n"
     ]
    }
   ],
   "source": [
    "shape = (2, 3,)\n",
    "rand_tensor = torch.rand(shape)\n",
    "ones_tensor = torch.ones(shape)\n",
    "zeros_tensor = torch.zeros(shape)\n",
    "\n",
    "print(rand_tensor)\n",
    "print(ones_tensor)\n",
    "print(zeros_tensor)"
   ]
  },
  {
   "cell_type": "markdown",
   "id": "written-devil",
   "metadata": {},
   "source": [
    "## Attributes of a Tensor\n",
    "텐서의 속성에는 shape, data type과 저장된 장치가 표현됩니다."
   ]
  },
  {
   "cell_type": "code",
   "execution_count": 6,
   "id": "resident-effort",
   "metadata": {},
   "outputs": [
    {
     "name": "stdout",
     "output_type": "stream",
     "text": [
      "torch.Size([3, 4])\n",
      "torch.float32\n",
      "cpu\n"
     ]
    }
   ],
   "source": [
    "tensor = torch.rand(3, 4)\n",
    "\n",
    "print(tensor.shape)\n",
    "print(tensor.dtype)\n",
    "print(tensor.device)"
   ]
  },
  {
   "cell_type": "markdown",
   "id": "scheduled-beach",
   "metadata": {},
   "source": [
    "## Operations on Tensors\n",
    "수학, 선형대수, 행렬 연산(transposing, indexing, slicing) 등 100개 이상의 텐서 연산들이 제공되며 [여기](https://pytorch.org/docs/stable/torch.html)에서 확인 가능합니다. 각 연산은 GPU를 활용할 수 있으며 일반적으로 GPU의 연산이 더욱 빠릅니다. 텐서는 기본적으로 CPU에 생성되므로 `.to` 함수를 사용하여 명시적으로 GPU로 옮겨야 합니다(GPU가 사용가능한지 확인한 후). 큰 규모의 텐서를 장치 간에 복사하는 것은 긴 시간 및 많은 메모리 소비를 유발하므로 주의가 필요합니다. "
   ]
  },
  {
   "cell_type": "code",
   "execution_count": 7,
   "id": "divine-logan",
   "metadata": {},
   "outputs": [
    {
     "name": "stdout",
     "output_type": "stream",
     "text": [
      "True\n"
     ]
    }
   ],
   "source": [
    "if torch.cuda.is_available():\n",
    "    tensor = tensor.to(\"cuda\")\n",
    "print(torch.cuda.is_available())"
   ]
  },
  {
   "cell_type": "markdown",
   "id": "industrial-velvet",
   "metadata": {},
   "source": [
    "### Standard numpy-like indexing and slicing"
   ]
  },
  {
   "cell_type": "code",
   "execution_count": 8,
   "id": "dimensional-command",
   "metadata": {},
   "outputs": [
    {
     "name": "stdout",
     "output_type": "stream",
     "text": [
      "First row:  tensor([0.9448, 0.6379, 0.3568, 0.9430])\n",
      "First column:  tensor([0.9448, 0.2119, 0.0776, 0.7960])\n",
      "Last column:  tensor([0.9430, 0.2688, 0.1787, 0.8009])\n",
      "tensor([[0.9448, 0.0000, 0.0776, 0.7960],\n",
      "        [0.6379, 0.0000, 0.8492, 0.3812],\n",
      "        [0.3568, 0.0000, 0.6712, 0.5232],\n",
      "        [0.9430, 0.0000, 0.1787, 0.8009]])\n"
     ]
    }
   ],
   "source": [
    "tensor = torch.rand(4, 4)\n",
    "print(\"First row: \", tensor[:, 0])\n",
    "print(\"First column: \", tensor[0, :])\n",
    "print(\"Last column: \", tensor[-1, :])\n",
    "\n",
    "tensor[:, 1] = 0\n",
    "print(tensor)"
   ]
  },
  {
   "cell_type": "markdown",
   "id": "under-honor",
   "metadata": {},
   "source": [
    "### Joining tensors\n",
    "`torch.cat`을 사용하면 주어진 차원을 유지하면서 순차적으로 결합할 수 있습니다.`torch.cat`와 약간 다른 결합 연산으로 `torch.stack`(차원이 증가됨, `unsqueeze(0)`+`cat`효과)을 사용할 수 있습니다."
   ]
  },
  {
   "cell_type": "code",
   "execution_count": 9,
   "id": "published-significance",
   "metadata": {},
   "outputs": [
    {
     "name": "stdout",
     "output_type": "stream",
     "text": [
      "[torch.cat]\n",
      "tensor([[0.9448, 0.0000, 0.0776, 0.7960],\n",
      "        [0.6379, 0.0000, 0.8492, 0.3812],\n",
      "        [0.3568, 0.0000, 0.6712, 0.5232],\n",
      "        [0.9430, 0.0000, 0.1787, 0.8009],\n",
      "        [0.9448, 0.0000, 0.0776, 0.7960],\n",
      "        [0.6379, 0.0000, 0.8492, 0.3812],\n",
      "        [0.3568, 0.0000, 0.6712, 0.5232],\n",
      "        [0.9430, 0.0000, 0.1787, 0.8009],\n",
      "        [0.9448, 0.0000, 0.0776, 0.7960],\n",
      "        [0.6379, 0.0000, 0.8492, 0.3812],\n",
      "        [0.3568, 0.0000, 0.6712, 0.5232],\n",
      "        [0.9430, 0.0000, 0.1787, 0.8009]])\n",
      "[torch.stack]\n",
      "tensor([[[0.9448, 0.0000, 0.0776, 0.7960],\n",
      "         [0.6379, 0.0000, 0.8492, 0.3812],\n",
      "         [0.3568, 0.0000, 0.6712, 0.5232],\n",
      "         [0.9430, 0.0000, 0.1787, 0.8009]],\n",
      "\n",
      "        [[0.9448, 0.0000, 0.0776, 0.7960],\n",
      "         [0.6379, 0.0000, 0.8492, 0.3812],\n",
      "         [0.3568, 0.0000, 0.6712, 0.5232],\n",
      "         [0.9430, 0.0000, 0.1787, 0.8009]],\n",
      "\n",
      "        [[0.9448, 0.0000, 0.0776, 0.7960],\n",
      "         [0.6379, 0.0000, 0.8492, 0.3812],\n",
      "         [0.3568, 0.0000, 0.6712, 0.5232],\n",
      "         [0.9430, 0.0000, 0.1787, 0.8009]]])\n"
     ]
    }
   ],
   "source": [
    "t1 = torch.cat([tensor, tensor, tensor], dim=0) # row-wide\n",
    "print(\"[torch.cat]\")\n",
    "print(t1)\n",
    "\n",
    "t2 = torch.stack([tensor, tensor, tensor], dim=0) # row-wide\n",
    "print(\"[torch.stack]\")\n",
    "print(t2)"
   ]
  },
  {
   "cell_type": "code",
   "execution_count": 10,
   "id": "executed-coordinator",
   "metadata": {},
   "outputs": [
    {
     "name": "stdout",
     "output_type": "stream",
     "text": [
      "tensor([[[True, True, True, True],\n",
      "         [True, True, True, True],\n",
      "         [True, True, True, True],\n",
      "         [True, True, True, True]],\n",
      "\n",
      "        [[True, True, True, True],\n",
      "         [True, True, True, True],\n",
      "         [True, True, True, True],\n",
      "         [True, True, True, True]],\n",
      "\n",
      "        [[True, True, True, True],\n",
      "         [True, True, True, True],\n",
      "         [True, True, True, True],\n",
      "         [True, True, True, True]]])\n"
     ]
    }
   ],
   "source": [
    "t3 = torch.cat([tensor.unsqueeze(0), tensor.unsqueeze(0), tensor.unsqueeze(0)], dim=0)\n",
    "print(t2 == t3)"
   ]
  },
  {
   "cell_type": "code",
   "execution_count": 11,
   "id": "younger-gothic",
   "metadata": {},
   "outputs": [
    {
     "name": "stdout",
     "output_type": "stream",
     "text": [
      "tensor([[[0.9448, 0.0000, 0.0776, 0.7960],\n",
      "         [0.9448, 0.0000, 0.0776, 0.7960],\n",
      "         [0.9448, 0.0000, 0.0776, 0.7960]],\n",
      "\n",
      "        [[0.6379, 0.0000, 0.8492, 0.3812],\n",
      "         [0.6379, 0.0000, 0.8492, 0.3812],\n",
      "         [0.6379, 0.0000, 0.8492, 0.3812]],\n",
      "\n",
      "        [[0.3568, 0.0000, 0.6712, 0.5232],\n",
      "         [0.3568, 0.0000, 0.6712, 0.5232],\n",
      "         [0.3568, 0.0000, 0.6712, 0.5232]],\n",
      "\n",
      "        [[0.9430, 0.0000, 0.1787, 0.8009],\n",
      "         [0.9430, 0.0000, 0.1787, 0.8009],\n",
      "         [0.9430, 0.0000, 0.1787, 0.8009]]])\n"
     ]
    }
   ],
   "source": [
    "t5 = torch.stack([tensor, tensor, tensor], dim=1) # dim=1\n",
    "print(t5)"
   ]
  },
  {
   "cell_type": "markdown",
   "id": "composite-little",
   "metadata": {},
   "source": [
    "## Arithmetic operations"
   ]
  },
  {
   "cell_type": "code",
   "execution_count": 12,
   "id": "circular-singer",
   "metadata": {},
   "outputs": [
    {
     "data": {
      "text/plain": [
       "tensor([[1.5324, 0.9721, 0.8057, 1.5424],\n",
       "        [0.9721, 1.2733, 0.9970, 1.0586],\n",
       "        [0.8057, 0.9970, 0.8515, 0.8754],\n",
       "        [1.5424, 1.0586, 0.8754, 1.5627]])"
      ]
     },
     "execution_count": 12,
     "metadata": {},
     "output_type": "execute_result"
    }
   ],
   "source": [
    "# 행렬 곱\n",
    "y1 = tensor @ tensor.T\n",
    "y2 = tensor.matmul(tensor.T)\n",
    "\n",
    "y3 = torch.rand_like(tensor)\n",
    "torch.matmul(tensor, tensor.T, out=y3)"
   ]
  },
  {
   "cell_type": "code",
   "execution_count": 13,
   "id": "julian-escape",
   "metadata": {},
   "outputs": [
    {
     "data": {
      "text/plain": [
       "tensor([[True, True, True, True],\n",
       "        [True, True, True, True],\n",
       "        [True, True, True, True],\n",
       "        [True, True, True, True]])"
      ]
     },
     "execution_count": 13,
     "metadata": {},
     "output_type": "execute_result"
    }
   ],
   "source": [
    "(y1 == y2) & (y1 == y3)"
   ]
  },
  {
   "cell_type": "code",
   "execution_count": 14,
   "id": "opening-evidence",
   "metadata": {},
   "outputs": [
    {
     "data": {
      "text/plain": [
       "tensor([[0.8927, 0.0000, 0.0277, 0.7507],\n",
       "        [0.0000, 0.0000, 0.0000, 0.0000],\n",
       "        [0.0277, 0.0000, 0.4505, 0.0935],\n",
       "        [0.7507, 0.0000, 0.0935, 0.6414]])"
      ]
     },
     "execution_count": 14,
     "metadata": {},
     "output_type": "execute_result"
    }
   ],
   "source": [
    "# element-wise product\n",
    "z1 = tensor * tensor.T\n",
    "z2 = tensor.mul(tensor.T)\n",
    "\n",
    "z3 = torch.rand_like(tensor)\n",
    "torch.mul(tensor, tensor.T, out=z3)"
   ]
  },
  {
   "cell_type": "code",
   "execution_count": 15,
   "id": "downtown-recommendation",
   "metadata": {},
   "outputs": [
    {
     "data": {
      "text/plain": [
       "tensor([[True, True, True, True],\n",
       "        [True, True, True, True],\n",
       "        [True, True, True, True],\n",
       "        [True, True, True, True]])"
      ]
     },
     "execution_count": 15,
     "metadata": {},
     "output_type": "execute_result"
    }
   ],
   "source": [
    "(z1 == z2) & (z1 == z3)"
   ]
  },
  {
   "cell_type": "markdown",
   "id": "sitting-divide",
   "metadata": {},
   "source": [
    "### Single-element tensors\n",
    "아래 예제와 같이 모든 텐서의 값이 하나로 합쳐지는 경우, `item()` 함수를 사용하여 Python 숫자형 값으로 전활할 수 있습니다."
   ]
  },
  {
   "cell_type": "code",
   "execution_count": 16,
   "id": "western-colon",
   "metadata": {},
   "outputs": [
    {
     "name": "stdout",
     "output_type": "stream",
     "text": [
      "7.160561561584473 <class 'float'>\n"
     ]
    }
   ],
   "source": [
    "agg = tensor.sum()\n",
    "agg_item = agg.item()\n",
    "print(agg_item, type(agg_item))"
   ]
  },
  {
   "cell_type": "markdown",
   "id": "exempt-complexity",
   "metadata": {},
   "source": [
    "### In-plale operations\n",
    "결과를 피연산자에 저장하는 연산을 in-place라고 합니다. 이들은 `_` 접미사로 표현됩니다. 예를 들어 `x.copy_()`, `x.t_()`는 x를 변경합니다.\n",
    "> **Note:** In-place 연산은 메모리를 절약할 수는 있지만 연산 히스토리가 사라지기 때문에 문제가 될 수 있으므로 권장되지는 않습니다. "
   ]
  },
  {
   "cell_type": "code",
   "execution_count": 17,
   "id": "cultural-photography",
   "metadata": {},
   "outputs": [
    {
     "name": "stdout",
     "output_type": "stream",
     "text": [
      "tensor([[0.9448, 0.0000, 0.0776, 0.7960],\n",
      "        [0.6379, 0.0000, 0.8492, 0.3812],\n",
      "        [0.3568, 0.0000, 0.6712, 0.5232],\n",
      "        [0.9430, 0.0000, 0.1787, 0.8009]]) \n",
      "\n",
      "tensor([[5.9448, 5.0000, 5.0776, 5.7960],\n",
      "        [5.6379, 5.0000, 5.8492, 5.3812],\n",
      "        [5.3568, 5.0000, 5.6712, 5.5232],\n",
      "        [5.9430, 5.0000, 5.1787, 5.8009]])\n"
     ]
    }
   ],
   "source": [
    "print(tensor, \"\\n\")\n",
    "tensor.add_(5)\n",
    "print(tensor)"
   ]
  },
  {
   "cell_type": "markdown",
   "id": "yellow-costs",
   "metadata": {},
   "source": [
    "## Bridge with NumPy\n",
    "CPU로 생성한 텐서와 NumPy 배열은 원본의 메모리 위치를 공유할 수 있으므로, 하나를 변경하면 다른 하나도 변경됩니다. \n",
    " \n",
    "### Tensor to NumPy array"
   ]
  },
  {
   "cell_type": "code",
   "execution_count": 18,
   "id": "grand-afternoon",
   "metadata": {},
   "outputs": [
    {
     "name": "stdout",
     "output_type": "stream",
     "text": [
      "t: tensor([1., 1., 1., 1., 1.])\n",
      "n: [1. 1. 1. 1. 1.]\n"
     ]
    }
   ],
   "source": [
    "t = torch.ones(5)\n",
    "print(f\"t: {t}\")\n",
    "n = t.numpy()\n",
    "print(f\"n: {n}\")"
   ]
  },
  {
   "cell_type": "markdown",
   "id": "disturbed-authority",
   "metadata": {},
   "source": [
    "텐서의 변경이 Numpy 배열에도 미칩니다. "
   ]
  },
  {
   "cell_type": "code",
   "execution_count": 19,
   "id": "finite-lexington",
   "metadata": {},
   "outputs": [
    {
     "name": "stdout",
     "output_type": "stream",
     "text": [
      "t: tensor([2., 2., 2., 2., 2.])\n",
      "n: [2. 2. 2. 2. 2.]\n"
     ]
    }
   ],
   "source": [
    "t.add_(1)\n",
    "print(f\"t: {t}\")\n",
    "print(f\"n: {n}\")"
   ]
  },
  {
   "cell_type": "markdown",
   "id": "orange-procurement",
   "metadata": {},
   "source": [
    "### NumPy array to Tensor"
   ]
  },
  {
   "cell_type": "code",
   "execution_count": 20,
   "id": "alien-interest",
   "metadata": {},
   "outputs": [],
   "source": [
    "n = np.ones(5)\n",
    "t = torch.from_numpy(n)"
   ]
  },
  {
   "cell_type": "markdown",
   "id": "differential-customer",
   "metadata": {},
   "source": [
    "반대도 성립합니다."
   ]
  },
  {
   "cell_type": "code",
   "execution_count": 21,
   "id": "sharp-vaccine",
   "metadata": {},
   "outputs": [
    {
     "name": "stdout",
     "output_type": "stream",
     "text": [
      "t: tensor([2., 2., 2., 2., 2.], dtype=torch.float64)\n",
      "n: [2. 2. 2. 2. 2.]\n"
     ]
    }
   ],
   "source": [
    "np.add(n, 1, out=n)\n",
    "print(f\"t: {t}\")\n",
    "print(f\"n: {n}\")"
   ]
  }
 ],
 "metadata": {
  "kernelspec": {
   "display_name": "Python 3 (ipykernel)",
   "language": "python",
   "name": "python3"
  },
  "language_info": {
   "codemirror_mode": {
    "name": "ipython",
    "version": 3
   },
   "file_extension": ".py",
   "mimetype": "text/x-python",
   "name": "python",
   "nbconvert_exporter": "python",
   "pygments_lexer": "ipython3",
   "version": "3.8.12"
  }
 },
 "nbformat": 4,
 "nbformat_minor": 5
}
