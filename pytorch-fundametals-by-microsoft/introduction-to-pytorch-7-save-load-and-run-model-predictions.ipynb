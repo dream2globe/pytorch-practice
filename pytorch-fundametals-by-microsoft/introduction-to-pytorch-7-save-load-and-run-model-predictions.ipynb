{
 "cells": [
  {
   "cell_type": "markdown",
   "id": "caring-brook",
   "metadata": {},
   "source": [
    "# Save, Load and run model predictions \n",
    "모델 상태를 지속하기 위해 저장, 읽은 후 예측 모델을 동작하는 방법을 다룸"
   ]
  },
  {
   "cell_type": "code",
   "execution_count": 54,
   "id": "dated-announcement",
   "metadata": {},
   "outputs": [],
   "source": [
    "import torch\n",
    "import torch.onnx as onnx\n",
    "import torchvision.models as models "
   ]
  },
  {
   "cell_type": "markdown",
   "id": "informational-tract",
   "metadata": {},
   "source": [
    "## Saving and loading model weights\n",
    "pytorch 모델은 학습한 파라미터를 `state_dict`이라고 하는 내부 dictionary에 보관함. `torch.save` 함수를 사용하여 이를 저장할 수 있음"
   ]
  },
  {
   "cell_type": "code",
   "execution_count": 55,
   "id": "fifth-entrance",
   "metadata": {},
   "outputs": [],
   "source": [
    "model = models.vgg16(pretrained=True)\n",
    "torch.save(model.state_dict(), \"data/model_weights.pth\")"
   ]
  },
  {
   "cell_type": "markdown",
   "id": "systematic-metabolism",
   "metadata": {},
   "source": [
    "모델의 가중치를 다시 읽기 위해, 구조가 같은 모델 인스턴스를 만들고 load_state_dict() method로 파라미터를 읽어서 적용할 수 있음."
   ]
  },
  {
   "cell_type": "code",
   "execution_count": 56,
   "id": "broken-favor",
   "metadata": {},
   "outputs": [
    {
     "data": {
      "text/plain": [
       "VGG(\n",
       "  (features): Sequential(\n",
       "    (0): Conv2d(3, 64, kernel_size=(3, 3), stride=(1, 1), padding=(1, 1))\n",
       "    (1): ReLU(inplace=True)\n",
       "    (2): Conv2d(64, 64, kernel_size=(3, 3), stride=(1, 1), padding=(1, 1))\n",
       "    (3): ReLU(inplace=True)\n",
       "    (4): MaxPool2d(kernel_size=2, stride=2, padding=0, dilation=1, ceil_mode=False)\n",
       "    (5): Conv2d(64, 128, kernel_size=(3, 3), stride=(1, 1), padding=(1, 1))\n",
       "    (6): ReLU(inplace=True)\n",
       "    (7): Conv2d(128, 128, kernel_size=(3, 3), stride=(1, 1), padding=(1, 1))\n",
       "    (8): ReLU(inplace=True)\n",
       "    (9): MaxPool2d(kernel_size=2, stride=2, padding=0, dilation=1, ceil_mode=False)\n",
       "    (10): Conv2d(128, 256, kernel_size=(3, 3), stride=(1, 1), padding=(1, 1))\n",
       "    (11): ReLU(inplace=True)\n",
       "    (12): Conv2d(256, 256, kernel_size=(3, 3), stride=(1, 1), padding=(1, 1))\n",
       "    (13): ReLU(inplace=True)\n",
       "    (14): Conv2d(256, 256, kernel_size=(3, 3), stride=(1, 1), padding=(1, 1))\n",
       "    (15): ReLU(inplace=True)\n",
       "    (16): MaxPool2d(kernel_size=2, stride=2, padding=0, dilation=1, ceil_mode=False)\n",
       "    (17): Conv2d(256, 512, kernel_size=(3, 3), stride=(1, 1), padding=(1, 1))\n",
       "    (18): ReLU(inplace=True)\n",
       "    (19): Conv2d(512, 512, kernel_size=(3, 3), stride=(1, 1), padding=(1, 1))\n",
       "    (20): ReLU(inplace=True)\n",
       "    (21): Conv2d(512, 512, kernel_size=(3, 3), stride=(1, 1), padding=(1, 1))\n",
       "    (22): ReLU(inplace=True)\n",
       "    (23): MaxPool2d(kernel_size=2, stride=2, padding=0, dilation=1, ceil_mode=False)\n",
       "    (24): Conv2d(512, 512, kernel_size=(3, 3), stride=(1, 1), padding=(1, 1))\n",
       "    (25): ReLU(inplace=True)\n",
       "    (26): Conv2d(512, 512, kernel_size=(3, 3), stride=(1, 1), padding=(1, 1))\n",
       "    (27): ReLU(inplace=True)\n",
       "    (28): Conv2d(512, 512, kernel_size=(3, 3), stride=(1, 1), padding=(1, 1))\n",
       "    (29): ReLU(inplace=True)\n",
       "    (30): MaxPool2d(kernel_size=2, stride=2, padding=0, dilation=1, ceil_mode=False)\n",
       "  )\n",
       "  (avgpool): AdaptiveAvgPool2d(output_size=(7, 7))\n",
       "  (classifier): Sequential(\n",
       "    (0): Linear(in_features=25088, out_features=4096, bias=True)\n",
       "    (1): ReLU(inplace=True)\n",
       "    (2): Dropout(p=0.5, inplace=False)\n",
       "    (3): Linear(in_features=4096, out_features=4096, bias=True)\n",
       "    (4): ReLU(inplace=True)\n",
       "    (5): Dropout(p=0.5, inplace=False)\n",
       "    (6): Linear(in_features=4096, out_features=1000, bias=True)\n",
       "  )\n",
       ")"
      ]
     },
     "execution_count": 56,
     "metadata": {},
     "output_type": "execute_result"
    }
   ],
   "source": [
    "model = models.vgg16()\n",
    "model.load_state_dict(torch.load(\"data/model_weights.pth\"))\n",
    "model.eval()"
   ]
  },
  {
   "cell_type": "markdown",
   "id": "hybrid-cisco",
   "metadata": {},
   "source": [
    "> **Note:** dropout이나 batch norm이 평가모드로 설정되도록 `model.eval()` 함수를 평가 전 호출했는지 확인해야 함. 호출하지 않았다면 일관적이지 않은 결과를 도출할 수 있음."
   ]
  },
  {
   "cell_type": "markdown",
   "id": "expressed-finnish",
   "metadata": {},
   "source": [
    "## Saving and loading models with shapes\n",
    "모델의 가중치를 읽을 때에는 모델 클래스에 신경망의 구조가 정의되어 있으므로 모델 클래스의 인스턴스를 먼저 만드는 것이 필요함. 때문에 신경망의 파라미터와 더불어 신경망의 구조를 함께 저장하기 원한다면 `model.state_dict()` 대신 `model` 자체를 저장하거나 읽을 수 있음."
   ]
  },
  {
   "cell_type": "code",
   "execution_count": 57,
   "id": "polished-province",
   "metadata": {},
   "outputs": [],
   "source": [
    "torch.save(model, 'data/vgg_model.pth')"
   ]
  },
  {
   "cell_type": "code",
   "execution_count": 58,
   "id": "flying-postage",
   "metadata": {},
   "outputs": [],
   "source": [
    "model = torch.load('data/vgg_model.pth')"
   ]
  },
  {
   "cell_type": "markdown",
   "id": "crucial-atmosphere",
   "metadata": {},
   "source": [
    "## Exporting the model to ONNX\n",
    "- 다른 플랫폼, 다른 언어에서도 테스트가 가능하도록 기능 지원(ONNX runtime 필요)\n",
    "- input_image는 맞은 자료형과 모양이라면 랜덤하게 결정되어도 무방함. sample data 개념.\n",
    "\n",
    "[참고자료]\n",
    "- [Pytorch를 모델을 ONNX으로 변환하고 ONNX 런타임에서 실행하기](https://tutorials.pytorch.kr/advanced/super_resolution_with_onnxruntime.html)\n",
    "- [Pytorch를 ONNX에서 export 하기](https://yunmorning.tistory.com/17)\n",
    "- https://netron.app/"
   ]
  },
  {
   "cell_type": "code",
   "execution_count": 59,
   "id": "experienced-wages",
   "metadata": {},
   "outputs": [],
   "source": [
    "input_image = torch.zeros((1,3,224,224))\n",
    "onnx.export(model, input_image, 'data/model.onnx')"
   ]
  }
 ],
 "metadata": {
  "kernelspec": {
   "display_name": "Python 3",
   "language": "python",
   "name": "python3"
  },
  "language_info": {
   "codemirror_mode": {
    "name": "ipython",
    "version": 3
   },
   "file_extension": ".py",
   "mimetype": "text/x-python",
   "name": "python",
   "nbconvert_exporter": "python",
   "pygments_lexer": "ipython3",
   "version": "3.7.10"
  }
 },
 "nbformat": 4,
 "nbformat_minor": 5
}
