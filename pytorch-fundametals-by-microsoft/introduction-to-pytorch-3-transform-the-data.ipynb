{
 "cells": [
  {
   "cell_type": "markdown",
   "id": "stainless-pledge",
   "metadata": {},
   "source": [
    "# Transform the data\n",
    "데이터의 형태는 항상 기계학습 알고리즘에서 요구하는 최종의 데이터 형태로 항상 얻을 수는 없습니다. 데이터를 일부 조절하여 학습에 적합한 데이터로 만들기 위해 **transform**을 사용합니다. \n",
    "\n",
    "모든 TorchVision 데이터셋은 feature를 변환하기 위한 `transform`, label을 변환하기 위한 `target_transform` 두 가지 파라미터를 포함합니다. [torchvision.transforms](https://pytorch.org/vision/stable/transforms.html) 모듈은 일반적인 상황에서 사용할 수 있는 변환을 제공합니다. \n",
    "\n",
    "\n",
    "FashonMNIST 피처는 PIL Image 형식이며 레이블은 정수입니다. 학습을 위해서는 정규화된 피처와 one-hot 인코딩된 텐서 레이블이 필요합니다. 이러한 변환을 수행하기 위해 `ToTensor`, `Lambda`를 사용합니다. "
   ]
  },
  {
   "cell_type": "code",
   "execution_count": 1,
   "id": "afraid-contrast",
   "metadata": {},
   "outputs": [],
   "source": [
    "from torchvision import datasets\n",
    "from torchvision.transforms import ToTensor, Lambda\n",
    "\n",
    "ds = datasets.FashionMNIST(\n",
    "    root=\"data\",\n",
    "    train=True,\n",
    "    download=True,\n",
    "    transform=ToTensor(),\n",
    "    target_transform=Lambda(lambda y: torch.zeros(10, dtype=torch.float).scatter_(0, torch.tensor(y), value=1))\n",
    ")"
   ]
  },
  {
   "cell_type": "markdown",
   "id": "historical-average",
   "metadata": {},
   "source": [
    "### ToTensor()\n",
    "[ToTensor](https://pytorch.org/vision/stable/transforms.html#torchvision.transforms.ToTensor)는 PIL image 혹은 Numpy ndarray를 `FloatTensor` 로 변환하며 이미지의 픽셀 밝기 값을 [0., 1.] 구간 값으로 스케일링 합니다. \n",
    "\n",
    "### Lambda transforms\n",
    "람다 변환은 사용자 정의 람다 함수를 적용합니다. 여기에서는 정수를 one-hot으로 인코딩된 텐서로 전환하는 함수를 정의하였습니다. 먼저 크기가 10인 0 행렬을 생성한 후 [scatter](https://pytorch.org/docs/stable/tensors.html#torch.Tensor.scatter_)를 호출하여 레이블 y와 같은 index에 `value=1` 을 대입합니다."
   ]
  },
  {
   "cell_type": "code",
   "execution_count": 2,
   "id": "starting-tucson",
   "metadata": {},
   "outputs": [],
   "source": [
    "target_transform = Lambda(lambda y: torch.zeros(\n",
    "    10, dtype=torch.float).scatter_(dim=0, index=torch.tensor(y), value=1))"
   ]
  }
 ],
 "metadata": {
  "kernelspec": {
   "display_name": "Python 3 (ipykernel)",
   "language": "python",
   "name": "python3"
  },
  "language_info": {
   "codemirror_mode": {
    "name": "ipython",
    "version": 3
   },
   "file_extension": ".py",
   "mimetype": "text/x-python",
   "name": "python",
   "nbconvert_exporter": "python",
   "pygments_lexer": "ipython3",
   "version": "3.8.12"
  }
 },
 "nbformat": 4,
 "nbformat_minor": 5
}
