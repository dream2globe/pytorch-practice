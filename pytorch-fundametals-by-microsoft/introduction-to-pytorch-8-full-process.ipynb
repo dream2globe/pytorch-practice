{
 "cells": [
  {
   "attachments": {},
   "cell_type": "markdown",
   "id": "static-disorder",
   "metadata": {},
   "source": [
    "# The full model building process"
   ]
  },
  {
   "cell_type": "code",
   "execution_count": 1,
   "id": "alpha-conjunction",
   "metadata": {
    "tags": []
   },
   "outputs": [],
   "source": [
    "%matplotlib inline"
   ]
  },
  {
   "attachments": {},
   "cell_type": "markdown",
   "id": "complimentary-mixture",
   "metadata": {},
   "source": [
    "## Working with data"
   ]
  },
  {
   "cell_type": "code",
   "execution_count": 2,
   "id": "refined-average",
   "metadata": {
    "tags": []
   },
   "outputs": [],
   "source": [
    "import torch\n",
    "from torch import nn\n",
    "from torch.utils.data import DataLoader\n",
    "from torchvision import datasets\n",
    "from torchvision.transforms import ToTensor, Lambda, Compose\n",
    "import matplotlib.pyplot as plt"
   ]
  },
  {
   "attachments": {},
   "cell_type": "markdown",
   "id": "modern-tissue",
   "metadata": {},
   "source": [
    "- PyTorch는 [TorchText](https://pytorch.org/text/stable/index.html), [TorchVision](https://pytorch.org/vision/stable/index.html), [TorchAudio](https://pytorch.org/audio/stable/index.html)과 같은 도메인 특화된 라이브러리를 제공하며 본 예시에는 TorchVision dataset을 사용함\n",
    "- `torchVision.dataset` 모듈은 CIFAR, COCO 등 현실 비전데이터를 포함하며([full list here](https://pytorch.org/docs/stable/torchvision/datasets.html)) 예제에서는 **FashionMNIST**를 사용함"
   ]
  },
  {
   "cell_type": "code",
   "execution_count": 3,
   "id": "endangered-norway",
   "metadata": {
    "tags": []
   },
   "outputs": [],
   "source": [
    "training_data = datasets.FashionMNIST(\n",
    "    root=\"data\",\n",
    "    train=True,\n",
    "    download=True,\n",
    "    transform=ToTensor()\n",
    ")\n",
    "\n",
    "test_data = datasets.FashionMNIST(\n",
    "    root=\"data\",\n",
    "    train=False,\n",
    "    download=True,\n",
    "    transform=ToTensor()\n",
    ")"
   ]
  },
  {
   "attachments": {},
   "cell_type": "markdown",
   "id": "consistent-marijuana",
   "metadata": {},
   "source": [
    "- `dataset`은 `dataLoader`의 매개 변수로써 데이터를 통화시키며, 이러한 처리를 통해 batching, sampling, shuffling 그리고 multiprocess을 제공함\n",
    "- batch size는 64로 설정함"
   ]
  },
  {
   "cell_type": "code",
   "execution_count": 4,
   "id": "nuclear-senior",
   "metadata": {
    "tags": []
   },
   "outputs": [
    {
     "name": "stdout",
     "output_type": "stream",
     "text": [
      "Shape of X [N, C, H, W]:  torch.Size([64, 1, 28, 28])\n",
      "Shape of y:  torch.Size([64]) torch.int64\n"
     ]
    }
   ],
   "source": [
    "batch_size = 64\n",
    "\n",
    "train_dataloader = DataLoader(training_data, batch_size=batch_size)\n",
    "test_dataloader = DataLoader(training_data, batch_size=batch_size)\n",
    "\n",
    "for X, y in test_dataloader:\n",
    "    print(\"Shape of X [N, C, H, W]: \", X.shape)\n",
    "    print(\"Shape of y: \", y.shape, y.dtype)\n",
    "    break"
   ]
  },
  {
   "attachments": {},
   "cell_type": "markdown",
   "id": "confident-escape",
   "metadata": {},
   "source": [
    "## Creating models\n",
    "\n",
    "- 신경망 구조 정의를 위해 [nn.Module](https://pytorch.org/docs/stable/generated/torch.nn.Module.html)을 상속한 클래스를 작성함\n",
    "- 신경망의 각 층은 `__init__` 안에 정의하고, 어떻게 데이터를 통화할 지 `forward` 함수에 정의함 \n",
    "- 하드웨어 가속을 사용하기 위해 GPU로 인스턴스를 옮김"
   ]
  },
  {
   "cell_type": "code",
   "execution_count": 5,
   "id": "native-warren",
   "metadata": {
    "tags": []
   },
   "outputs": [
    {
     "name": "stdout",
     "output_type": "stream",
     "text": [
      "Using cuda device\n",
      "NeuralNetwork(\n",
      "  (flatten): Flatten(start_dim=1, end_dim=-1)\n",
      "  (linear_relu_stack): Sequential(\n",
      "    (0): Linear(in_features=784, out_features=512, bias=True)\n",
      "    (1): ReLU()\n",
      "    (2): Linear(in_features=512, out_features=512, bias=True)\n",
      "    (3): ReLU()\n",
      "    (4): Linear(in_features=512, out_features=10, bias=True)\n",
      "    (5): ReLU()\n",
      "  )\n",
      ")\n"
     ]
    }
   ],
   "source": [
    "device = \"cuda\" if torch.cuda.is_available() else \"cpu\"\n",
    "print(\"Using {} device\".format(device))\n",
    "\n",
    "class NeuralNetwork(nn.Module):\n",
    "    def __init__(self):\n",
    "        super(NeuralNetwork, self).__init__()\n",
    "        self.flatten = nn.Flatten()\n",
    "        self.linear_relu_stack = nn.Sequential(\n",
    "            nn.Linear(28*28, 512),\n",
    "            nn.ReLU(),\n",
    "            nn.Linear(512, 512),\n",
    "            nn.ReLU(),\n",
    "            nn.Linear(512, 10),\n",
    "            nn.ReLU()\n",
    "        )\n",
    "\n",
    "    def forward(self, x):\n",
    "        x = self.flatten(x)\n",
    "        logits = self.linear_relu_stack(x)\n",
    "        return logits\n",
    "\n",
    "model = NeuralNetwork().to(device)\n",
    "print(model)"
   ]
  },
  {
   "attachments": {},
   "cell_type": "markdown",
   "id": "alleged-statistics",
   "metadata": {},
   "source": [
    "### Optimizing the Model Parameters\n",
    "모델 학습을 위해 [loss function](https://pytorch.org/docs/stable/nn.html#loss-functions>) 과 [optimizer](https://pytorch.org/docs/stable/optim.html)을 구현"
   ]
  },
  {
   "cell_type": "code",
   "execution_count": 6,
   "id": "enhanced-celebrity",
   "metadata": {
    "tags": []
   },
   "outputs": [],
   "source": [
    "loss_fn = nn.CrossEntropyLoss()\n",
    "learning_rate = 1e-3\n",
    "optimizer = torch.optim.SGD(model.parameters(), lr=learning_rate)"
   ]
  },
  {
   "attachments": {},
   "cell_type": "markdown",
   "id": "employed-equipment",
   "metadata": {},
   "source": [
    "단일 학습 반복에서 모델은 학습 데이터의 예측값을 만들고 학습 에러를 줄이기 위해 모델 파라미터를 조절함"
   ]
  },
  {
   "cell_type": "code",
   "execution_count": 7,
   "id": "endangered-touch",
   "metadata": {
    "tags": []
   },
   "outputs": [],
   "source": [
    "def train(dataloader, model, loss_fn, optimizer):\n",
    "    size = len(dataloader.dataset)\n",
    "    for batch, (X, y) in enumerate(dataloader):\n",
    "        X, y = X.to(device), y.to(device)\n",
    "        # Compute prediction error\n",
    "        pred = model(X)\n",
    "        loss = loss_fn(pred, y)\n",
    "        # Backpropagation\n",
    "        optimizer.zero_grad()\n",
    "        loss.backward()\n",
    "        optimizer.step()\n",
    "        # Print loss\n",
    "        if batch % 100 == 0:\n",
    "            loss, current = loss.item(), batch * len(X)\n",
    "            print(f\"loss: {loss:>7f} [{current:>5d}/{size:>5d}]\")"
   ]
  },
  {
   "attachments": {},
   "cell_type": "markdown",
   "id": "southeast-blues",
   "metadata": {},
   "source": [
    "test 데이터셋으로 모델 성능을 확인"
   ]
  },
  {
   "cell_type": "code",
   "execution_count": 8,
   "id": "distinct-kitchen",
   "metadata": {
    "tags": []
   },
   "outputs": [],
   "source": [
    "def test(dataloader, model):\n",
    "    size = len(dataloader.dataset)\n",
    "    model.eval() # 평가모드로 모델이 사용됨을 선언\n",
    "    test_loss, correct = 0, 0\n",
    "    with torch.no_grad(): # 오차 역전차를 사용하지 않음(속도 샹항)\n",
    "        for X, y in dataloader:\n",
    "            X, y = X.to(device), y.to(device)\n",
    "            pred = model(X)\n",
    "            test_loss += loss_fn(pred, y).item()\n",
    "            correct += (pred.argmax(1) == y).type(torch.float).sum().item()\n",
    "    test_loss /= size\n",
    "    correct /= size\n",
    "    print(f\"Test Error: \\n Accuracy: {(100*correct):>0.1f}%, Avg loss: {test_loss:>8f} \\n\")"
   ]
  },
  {
   "attachments": {},
   "cell_type": "markdown",
   "id": "affected-egyptian",
   "metadata": {},
   "source": [
    "학습 과정은 여러번 반복된다. 각 epoch에서 모델은 좀 더 나은 예측을 위해 파라미터를 학습한다. 매번 epoch에서 정확도는 오르고 loss는 내려가길 기대한다. "
   ]
  },
  {
   "cell_type": "code",
   "execution_count": 9,
   "id": "flying-queen",
   "metadata": {
    "tags": []
   },
   "outputs": [
    {
     "name": "stdout",
     "output_type": "stream",
     "text": [
      "Epoch 1\n",
      "-------------------------------\n",
      "loss: 2.300389 [    0/60000]\n",
      "loss: 2.294711 [ 6400/60000]\n",
      "loss: 2.288752 [12800/60000]\n",
      "loss: 2.281989 [19200/60000]\n",
      "loss: 2.270615 [25600/60000]\n",
      "loss: 2.257631 [32000/60000]\n",
      "loss: 2.266520 [38400/60000]\n",
      "loss: 2.251966 [44800/60000]\n",
      "loss: 2.235633 [51200/60000]\n",
      "loss: 2.222870 [57600/60000]\n",
      "Test Error: \n",
      " Accuracy: 50.7%, Avg loss: 0.034737 \n",
      "\n",
      "Epoch 2\n",
      "-------------------------------\n",
      "loss: 2.227797 [    0/60000]\n",
      "loss: 2.206081 [ 6400/60000]\n",
      "loss: 2.191580 [12800/60000]\n",
      "loss: 2.202026 [19200/60000]\n",
      "loss: 2.154261 [25600/60000]\n",
      "loss: 2.143416 [32000/60000]\n",
      "loss: 2.173409 [38400/60000]\n",
      "loss: 2.142192 [44800/60000]\n",
      "loss: 2.125310 [51200/60000]\n",
      "loss: 2.091708 [57600/60000]\n",
      "Test Error: \n",
      " Accuracy: 51.8%, Avg loss: 0.032738 \n",
      "\n",
      "Epoch 3\n",
      "-------------------------------\n",
      "loss: 2.102849 [    0/60000]\n",
      "loss: 2.053435 [ 6400/60000]\n",
      "loss: 2.024248 [12800/60000]\n",
      "loss: 2.070426 [19200/60000]\n",
      "loss: 1.955449 [25600/60000]\n",
      "loss: 1.962847 [32000/60000]\n",
      "loss: 2.012152 [38400/60000]\n",
      "loss: 1.967105 [44800/60000]\n",
      "loss: 1.953025 [51200/60000]\n",
      "loss: 1.884962 [57600/60000]\n",
      "Test Error: \n",
      " Accuracy: 51.4%, Avg loss: 0.029675 \n",
      "\n",
      "Epoch 4\n",
      "-------------------------------\n",
      "loss: 1.908961 [    0/60000]\n",
      "loss: 1.822300 [ 6400/60000]\n",
      "loss: 1.790402 [12800/60000]\n",
      "loss: 1.885196 [19200/60000]\n",
      "loss: 1.709610 [25600/60000]\n",
      "loss: 1.760676 [32000/60000]\n",
      "loss: 1.820504 [38400/60000]\n",
      "loss: 1.775190 [44800/60000]\n",
      "loss: 1.731553 [51200/60000]\n",
      "loss: 1.633740 [57600/60000]\n",
      "Test Error: \n",
      " Accuracy: 52.5%, Avg loss: 0.025865 \n",
      "\n",
      "Epoch 5\n",
      "-------------------------------\n",
      "loss: 1.648485 [    0/60000]\n",
      "loss: 1.578723 [ 6400/60000]\n",
      "loss: 1.512962 [12800/60000]\n",
      "loss: 1.675879 [19200/60000]\n",
      "loss: 1.480433 [25600/60000]\n",
      "loss: 1.452203 [32000/60000]\n",
      "loss: 1.549829 [38400/60000]\n",
      "loss: 1.470065 [44800/60000]\n",
      "loss: 1.495550 [51200/60000]\n",
      "loss: 1.416165 [57600/60000]\n",
      "Test Error: \n",
      " Accuracy: 54.4%, Avg loss: 0.022412 \n",
      "\n",
      "Epoch 6\n",
      "-------------------------------\n",
      "loss: 1.396181 [    0/60000]\n",
      "loss: 1.372943 [ 6400/60000]\n",
      "loss: 1.287699 [12800/60000]\n",
      "loss: 1.515949 [19200/60000]\n",
      "loss: 1.297749 [25600/60000]\n",
      "loss: 1.270822 [32000/60000]\n",
      "loss: 1.393358 [38400/60000]\n",
      "loss: 1.315085 [44800/60000]\n",
      "loss: 1.343842 [51200/60000]\n",
      "loss: 1.288273 [57600/60000]\n",
      "Test Error: \n",
      " Accuracy: 56.8%, Avg loss: 0.020194 \n",
      "\n",
      "Epoch 7\n",
      "-------------------------------\n",
      "loss: 1.234922 [    0/60000]\n",
      "loss: 1.241628 [ 6400/60000]\n",
      "loss: 1.138068 [12800/60000]\n",
      "loss: 1.408843 [19200/60000]\n",
      "loss: 1.179216 [25600/60000]\n",
      "loss: 1.154804 [32000/60000]\n",
      "loss: 1.292216 [38400/60000]\n",
      "loss: 1.215388 [44800/60000]\n",
      "loss: 1.244574 [51200/60000]\n",
      "loss: 1.207841 [57600/60000]\n",
      "Test Error: \n",
      " Accuracy: 58.8%, Avg loss: 0.018718 \n",
      "\n",
      "Epoch 8\n",
      "-------------------------------\n",
      "loss: 1.129347 [    0/60000]\n",
      "loss: 1.159462 [ 6400/60000]\n",
      "loss: 1.036441 [12800/60000]\n",
      "loss: 1.334792 [19200/60000]\n",
      "loss: 1.102361 [25600/60000]\n",
      "loss: 1.074943 [32000/60000]\n",
      "loss: 1.224015 [38400/60000]\n",
      "loss: 1.147397 [44800/60000]\n",
      "loss: 1.175589 [51200/60000]\n",
      "loss: 1.154069 [57600/60000]\n",
      "Test Error: \n",
      " Accuracy: 60.3%, Avg loss: 0.017675 \n",
      "\n",
      "Epoch 9\n",
      "-------------------------------\n",
      "loss: 1.053452 [    0/60000]\n",
      "loss: 1.101703 [ 6400/60000]\n",
      "loss: 0.963203 [12800/60000]\n",
      "loss: 1.281651 [19200/60000]\n",
      "loss: 1.049035 [25600/60000]\n",
      "loss: 1.017401 [32000/60000]\n",
      "loss: 1.175639 [38400/60000]\n",
      "loss: 1.097705 [44800/60000]\n",
      "loss: 1.123879 [51200/60000]\n",
      "loss: 1.116646 [57600/60000]\n",
      "Test Error: \n",
      " Accuracy: 61.6%, Avg loss: 0.016898 \n",
      "\n",
      "Epoch 10\n",
      "-------------------------------\n",
      "loss: 0.993717 [    0/60000]\n",
      "loss: 1.057543 [ 6400/60000]\n",
      "loss: 0.906918 [12800/60000]\n",
      "loss: 1.241164 [19200/60000]\n",
      "loss: 1.009668 [25600/60000]\n",
      "loss: 0.972806 [32000/60000]\n",
      "loss: 1.138011 [38400/60000]\n",
      "loss: 1.058401 [44800/60000]\n",
      "loss: 1.081962 [51200/60000]\n",
      "loss: 1.087352 [57600/60000]\n",
      "Test Error: \n",
      " Accuracy: 62.8%, Avg loss: 0.016279 \n",
      "\n",
      "Epoch 11\n",
      "-------------------------------\n",
      "loss: 0.943532 [    0/60000]\n",
      "loss: 1.022113 [ 6400/60000]\n",
      "loss: 0.861053 [12800/60000]\n",
      "loss: 1.208005 [19200/60000]\n",
      "loss: 0.978034 [25600/60000]\n",
      "loss: 0.936445 [32000/60000]\n",
      "loss: 1.106995 [38400/60000]\n",
      "loss: 1.026251 [44800/60000]\n",
      "loss: 1.046472 [51200/60000]\n",
      "loss: 1.063218 [57600/60000]\n",
      "Test Error: \n",
      " Accuracy: 64.0%, Avg loss: 0.015759 \n",
      "\n",
      "Epoch 12\n",
      "-------------------------------\n",
      "loss: 0.899860 [    0/60000]\n",
      "loss: 0.992130 [ 6400/60000]\n",
      "loss: 0.822061 [12800/60000]\n",
      "loss: 1.179842 [19200/60000]\n",
      "loss: 0.951854 [25600/60000]\n",
      "loss: 0.906227 [32000/60000]\n",
      "loss: 1.080804 [38400/60000]\n",
      "loss: 0.999132 [44800/60000]\n",
      "loss: 1.015760 [51200/60000]\n",
      "loss: 1.042822 [57600/60000]\n",
      "Test Error: \n",
      " Accuracy: 65.0%, Avg loss: 0.015312 \n",
      "\n",
      "Epoch 13\n",
      "-------------------------------\n",
      "loss: 0.861189 [    0/60000]\n",
      "loss: 0.965458 [ 6400/60000]\n",
      "loss: 0.788625 [12800/60000]\n",
      "loss: 1.155282 [19200/60000]\n",
      "loss: 0.929853 [25600/60000]\n",
      "loss: 0.880750 [32000/60000]\n",
      "loss: 1.058104 [38400/60000]\n",
      "loss: 0.976042 [44800/60000]\n",
      "loss: 0.988593 [51200/60000]\n",
      "loss: 1.025580 [57600/60000]\n",
      "Test Error: \n",
      " Accuracy: 65.8%, Avg loss: 0.014922 \n",
      "\n",
      "Epoch 14\n",
      "-------------------------------\n",
      "loss: 0.826539 [    0/60000]\n",
      "loss: 0.941250 [ 6400/60000]\n",
      "loss: 0.759724 [12800/60000]\n",
      "loss: 1.134413 [19200/60000]\n",
      "loss: 0.911142 [25600/60000]\n",
      "loss: 0.859029 [32000/60000]\n",
      "loss: 1.038679 [38400/60000]\n",
      "loss: 0.956964 [44800/60000]\n",
      "loss: 0.965232 [51200/60000]\n",
      "loss: 1.010707 [57600/60000]\n",
      "Test Error: \n",
      " Accuracy: 66.6%, Avg loss: 0.014584 \n",
      "\n",
      "Epoch 15\n",
      "-------------------------------\n",
      "loss: 0.795877 [    0/60000]\n",
      "loss: 0.919341 [ 6400/60000]\n",
      "loss: 0.734713 [12800/60000]\n",
      "loss: 1.116346 [19200/60000]\n",
      "loss: 0.894815 [25600/60000]\n",
      "loss: 0.840437 [32000/60000]\n",
      "loss: 1.021235 [38400/60000]\n",
      "loss: 0.941092 [44800/60000]\n",
      "loss: 0.945235 [51200/60000]\n",
      "loss: 0.997136 [57600/60000]\n",
      "Test Error: \n",
      " Accuracy: 67.3%, Avg loss: 0.014283 \n",
      "\n",
      "Done!\n"
     ]
    }
   ],
   "source": [
    "epochs = 15\n",
    "for t in range(epochs):\n",
    "    print(f\"Epoch {t+1}\\n-------------------------------\")\n",
    "    train(train_dataloader, model, loss_fn, optimizer)\n",
    "    test(test_dataloader, model)\n",
    "print(\"Done!\")"
   ]
  },
  {
   "attachments": {},
   "cell_type": "markdown",
   "id": "christian-evolution",
   "metadata": {},
   "source": [
    "## Saving Models\n",
    "dictionary 형태로 직렬화하는 것이 모델을 저장하는 일반적인 방법임(모델 파라미터를 포함)"
   ]
  },
  {
   "cell_type": "code",
   "execution_count": 10,
   "id": "hidden-separation",
   "metadata": {
    "tags": []
   },
   "outputs": [
    {
     "name": "stdout",
     "output_type": "stream",
     "text": [
      "Saved PyTorch Model State to model.pth\n"
     ]
    }
   ],
   "source": [
    "torch.save(model.state_dict(), \"data/model.pth\")\n",
    "print(\"Saved PyTorch Model State to model.pth\")"
   ]
  },
  {
   "attachments": {},
   "cell_type": "markdown",
   "id": "mexican-album",
   "metadata": {},
   "source": [
    "## Loading Models"
   ]
  },
  {
   "attachments": {},
   "cell_type": "markdown",
   "id": "latest-chance",
   "metadata": {},
   "source": [
    "모델을 읽은 것은 신경망 모델의 구조 재생성을 포함함"
   ]
  },
  {
   "cell_type": "code",
   "execution_count": 11,
   "id": "developed-celtic",
   "metadata": {
    "tags": []
   },
   "outputs": [
    {
     "data": {
      "text/plain": [
       "<All keys matched successfully>"
      ]
     },
     "execution_count": 11,
     "metadata": {},
     "output_type": "execute_result"
    }
   ],
   "source": [
    "model = NeuralNetwork()\n",
    "model.load_state_dict(torch.load(\"data/model.pth\"))"
   ]
  },
  {
   "attachments": {},
   "cell_type": "markdown",
   "id": "diverse-sponsorship",
   "metadata": {},
   "source": [
    "읽은 모델은 예측 생성에 활용할 수 있음"
   ]
  },
  {
   "cell_type": "code",
   "execution_count": 12,
   "id": "premier-crown",
   "metadata": {
    "tags": []
   },
   "outputs": [
    {
     "name": "stdout",
     "output_type": "stream",
     "text": [
      "Predicted: \"Ankle boot\", Actual: \"Ankle boot\"\n"
     ]
    }
   ],
   "source": [
    "classes = [\n",
    "    \"T-shirt/top\",\n",
    "    \"Trouser\",\n",
    "    \"Pullover\",\n",
    "    \"Dress\",\n",
    "    \"Coat\",\n",
    "    \"Sandal\",\n",
    "    \"Shirt\",\n",
    "    \"Sneaker\",\n",
    "    \"Bag\",\n",
    "    \"Ankle boot\",\n",
    "]\n",
    "\n",
    "model.eval()\n",
    "x, y = test_data[0][0], test_data[0][1]\n",
    "\n",
    "with torch.no_grad():\n",
    "    pred = model(x)\n",
    "    predicted, actual = classes[pred[0].argmax(0)], classes[y]\n",
    "    print(f'Predicted: \"{predicted}\", Actual: \"{actual}\"')"
   ]
  }
 ],
 "metadata": {
  "kernelspec": {
   "display_name": "Python 3 (ipykernel)",
   "language": "python",
   "name": "python3"
  },
  "language_info": {
   "codemirror_mode": {
    "name": "ipython",
    "version": 3
   },
   "file_extension": ".py",
   "mimetype": "text/x-python",
   "name": "python",
   "nbconvert_exporter": "python",
   "pygments_lexer": "ipython3",
   "version": "3.11.3"
  }
 },
 "nbformat": 4,
 "nbformat_minor": 5
}
