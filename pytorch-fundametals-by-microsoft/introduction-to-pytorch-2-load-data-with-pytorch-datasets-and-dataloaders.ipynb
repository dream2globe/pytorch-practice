{
 "cells": [
  {
   "cell_type": "markdown",
   "id": "intermediate-wells",
   "metadata": {},
   "source": [
    "# Load data with PyTorch Datasets and DataLoaders"
   ]
  },
  {
   "cell_type": "code",
   "execution_count": 1,
   "id": "first-thesis",
   "metadata": {},
   "outputs": [],
   "source": [
    "%matplotlib inline"
   ]
  },
  {
   "cell_type": "markdown",
   "id": "diagnostic-socket",
   "metadata": {},
   "source": [
    "## Datasets and Dataloaders\n",
    "데이터 샘플을 처리하기 위한 코드는 지저분하고 유지관리하기 어려울 수 있습니다. 더 나은 가독성과 모듈성을 위해 데이터셋 코드와 모델의 학습코드는 분리하는 것이 이상적입니다. PyTorch는 두 가지 데이터 기본 기능을 활용하여 사전 정의 데이터셋(`torch.utils.data.Dataset`)과 자체 데이터(`torch.utils.data.DataLoader`)를 사용할 수 있습니다.`Dataset`은 데이터와 레이블을 저장하고 `DataLoader`는 샘플에 쉽게 접근할 수 있도록 `Dataset` 주위에 iterable을 래핑합니다.\n",
    "\n",
    "PyTorch 도메인 라이브러리는 FashionMNIST과 같은 미리 정의된 다양한 데이터셋을 제공합니다. 하위 클래스 `torch.utils.data.DataLoader` 의 특정 함수 및 데이터로 불어올 수 있습기 때문에 모델의 벤치마킹 및 프로토타입 제작에 활용할 수 있습니다. \n",
    "\n",
    "다음의 링크에서 찾을 수 있습니다:\n",
    "[Image Datasets](https://pytorch.org/vision/stable/datasets.html),\n",
    "[Text Datasets](https://pytorch.org/text/stable/datasets.html), and\n",
    "[Audio Datasets](https://pytorch.org/audio/stable/datasets.html)\n",
    "\n",
    "### Loading a dataset\n",
    "아래는 TorchVision으로 부터 [Fashion-MNIST](https://research.zalando.com/welcome/mission/research-projects/fashion-mnist/) 을 읽는 예제입니다. Fashion-MNIST는 60,000개의 학습 데이터와 10,000개의 테스트 데이터로 구성된 Zalando의 아티클 이미지입니다. 각 샘플은 28×28의 그레이스케일 이미지이며 10개의 범주 중 하나와 연관되어 있습니다.\n",
    "\n",
    "우리는 아래의 파라미터를 사용하여 [FashionMNIST Dataset](https://pytorch.org/vision/stable/datasets.html#fashion-mnist)를 호출합니다.|\n",
    "- **root**은 데이터를 저정하는 위치입니다.\n",
    "- **train**은 train 혹은 test 데이터셋을 특정합니다.\n",
    "- **download=True**는 `root`에 데이터가 없는 경우 인터넷으로 데이터를 다운받습니다.\n",
    "- **transform**과 **target_transform**은 피처와 레이블 변환을 명시합니다."
   ]
  },
  {
   "cell_type": "code",
   "execution_count": 2,
   "id": "unknown-montgomery",
   "metadata": {},
   "outputs": [],
   "source": [
    "import torch\n",
    "from torch.utils.data import Dataset\n",
    "from torchvision import datasets\n",
    "from torchvision.transforms import ToTensor, Lambda\n",
    "import matplotlib.pyplot as plt\n",
    "\n",
    "training_data = datasets.FashionMNIST(\n",
    "    root=\"data\", # data path\n",
    "    train=True,\n",
    "    download=True, # root에 데이터가 없는 경우 다운받음\n",
    "    transform=ToTensor()\n",
    ")\n",
    "\n",
    "test_data = datasets.FashionMNIST(\n",
    "    root=\"data\",\n",
    "    train=False,\n",
    "    download=True,\n",
    "    transform=ToTensor()\n",
    ")"
   ]
  },
  {
   "cell_type": "markdown",
   "id": "scenic-supplement",
   "metadata": {},
   "source": [
    "Iterating and Visualizing the Dataset\n",
    "---\n",
    "`training_data[index]` 데이터셋에 순서를 의미하는 숫자를 부여하고, \n",
    "훈련 데이터 중 일부를 시각화하기 위해 `matplotlib`를 사용합니다."
   ]
  },
  {
   "cell_type": "code",
   "execution_count": 3,
   "id": "other-journey",
   "metadata": {},
   "outputs": [
    {
     "data": {
      "image/png": "[encoded data removed]",
      "text/plain": [
       "<Figure size 576x576 with 9 Axes>"
      ]
     },
     "metadata": {
      "needs_background": "light"
     },
     "output_type": "display_data"
    }
   ],
   "source": [
    "labels_map = {\n",
    "    0: \"T-Shirt\",\n",
    "    1: \"Trouser\",\n",
    "    2: \"Pullover\",\n",
    "    3: \"Dress\",\n",
    "    4: \"Coat\",\n",
    "    5: \"Sandal\",\n",
    "    6: \"Shirt\",\n",
    "    7: \"Sneaker\",\n",
    "    8: \"Bag\",\n",
    "    9: \"Ankle Boot\",\n",
    "}\n",
    "figure = plt.figure(figsize=(8, 8))\n",
    "cols, rows = 3, 3\n",
    "for i in range(1, cols*rows+1):\n",
    "    sample_idx = torch.randint(len(training_data), size=(1,)).item()\n",
    "    img, label = training_data[sample_idx]\n",
    "    figure.add_subplot(rows, cols, i)\n",
    "    plt.title(labels_map[label])\n",
    "    plt.axis(\"off\")\n",
    "    plt.imshow(img.squeeze(), cmap=\"gray\")\n",
    "plt.show()"
   ]
  },
  {
   "cell_type": "markdown",
   "id": "formed-winning",
   "metadata": {},
   "source": [
    "Creating a Custom Dataset for your files\n",
    "---\n",
    "사용자 정의 데이터셋 클래스는 3가지 함수를 꼭 구현해야 합니다:`__init__`, `__len__`, `__getitem__`. 이들 구현을 살펴보면, FashineMNIST 이미지는 `img_dir`에 저장되어 있으며 레이블은 `annotations_file`에 csv 파일로 구분되어 저장되어 있습니다. \n",
    "    \n",
    "다음 섹션에서는 이들 함수에서 무엇이 일어나는지 상세하게 살펴보겠습니다."
   ]
  },
  {
   "cell_type": "code",
   "execution_count": 4,
   "id": "collective-deposit",
   "metadata": {},
   "outputs": [],
   "source": [
    "import os \n",
    "import pandas as pd \n",
    "import torchvision.io as tvio\n",
    "\n",
    "class CustomImageDataset(Dataset):\n",
    "    def __init__(self, annotation_file, img_dir, transform=None, target_transform=None):\n",
    "        self.img_labels = pd.read_csv(annotation_file)\n",
    "        self.img_dir = img_dir\n",
    "        self.transform = transform\n",
    "        self.target_transform = target_transform\n",
    "        \n",
    "    def __len__(self):\n",
    "        return len(self.img_labels)\n",
    "    \n",
    "    def __getitem__(self, idx):\n",
    "        img_path = os.path.join(self.img_dir, self.img_labels.iloc[idx, 0])\n",
    "        image = tvio.read_image(img_path)\n",
    "        label = self.img_labels.iloc[idx, 1]\n",
    "        if self.transform:\n",
    "            image = self.transform(image)\n",
    "        if self.target_transform:\n",
    "            label = self.transform\n",
    "        sample = {\"image\":image, \"label\":label}\n",
    "        return sample    "
   ]
  },
  {
   "cell_type": "markdown",
   "id": "annoying-second",
   "metadata": {},
   "source": [
    "### init\n",
    "`__init__` 함수는 데이터셋 오브젝트 초기화 시 한번 동작합니다. 이미지와 주석, 모두의 변환을 포함한 디렉토리를 초기화합니다(다음 세션에 자세히 설명).\n",
    "\n",
    "The labels.csv file looks like:\n",
    "```\n",
    "    tshirt1.jpg, 0\n",
    "    tshirt2.jpg, 0\n",
    "    ......\n",
    "    ankleboot999.jpg, 9\n",
    "```\n",
    "Example:\n",
    "```\n",
    "def __init__(self, annotations_file, img_dir, transform=None, target_transform=None):\n",
    "    self.img_labels = pd.read_csv(annotations_file)\n",
    "    self.img_dir = img_dir\n",
    "    self.transform = transform\n",
    "    self.target_transform = target_transform\n",
    "```\n",
    "\n",
    "### len\n",
    "`__len__` 함수는 데이터셋의 샘플 수를 반환합니다.\n",
    "\n",
    "Example:\n",
    "```\n",
    "def __len__(self):\n",
    "    return len(self.img_labels)\n",
    "```\n",
    "\n",
    "### getitem\n",
    "`__getitem__` 함수는 주어진 인덱스의 데이터셋 샘플을 읽어서 반환합니다. index를 기준으로 디스크에서 이미지 위치를 식별하고, `read_image` 함수를 사용하여 텐서로 변환하고 검색합니다. 또한, `self.img_labels`의 csv data로부터 레이블을 인식하여 반환하고, 변환함수를 호출하여 최종으로는 텐서 이미지와 레이블을 python의 `dict`으로 반환합니다.\n",
    "\n",
    "```\n",
    "def __getitem__(self, idx):\n",
    "    img_path = os.path.join(self.img_dir, self.img_labels.iloc[idx, 0])\n",
    "    image = read_image(img_path)\n",
    "    label = self.img_labels.iloc[idx, 1]\n",
    "    if self.transform:\n",
    "        image = self.transform(image)\n",
    "    if self.target_transform:\n",
    "        label = self.target_transform(label)\n",
    "    sample = {\"image\": image, \"label\": label}\n",
    "    return sample\n",
    "```"
   ]
  },
  {
   "cell_type": "markdown",
   "id": "clean-vienna",
   "metadata": {},
   "source": [
    "## Preparing your data for training with DataLoaders\n",
    "\n",
    "`Dataset`은 한 번에 하나의 이미지와 레이블을 반환합니다. 모델을 학습하는 동안에는 minibatch 단위로 샘플이 통과되고, overfitting 현상을 줄이기 위해 매 epoch마다 데이터 위치가 변경되며, 멀티 프로세싱을 통해 데이터 반환 |속도를 높이길 희망합니다. \n",
    "\n",
    "`DataLoader`는 이러한 복잡한 요구를 손쉬운 API로 추상화한 이터러블 오브젝트입니다. "
   ]
  },
  {
   "cell_type": "code",
   "execution_count": 5,
   "id": "spanish-velvet",
   "metadata": {},
   "outputs": [],
   "source": [
    "from torch.utils.data import DataLoader\n",
    "\n",
    "train_dataloader = DataLoader(training_data, batch_size=64, shuffle=True)\n",
    "test_dataloader = DataLoader(test_data, batch_size=64, shuffle=True)"
   ]
  },
  {
   "cell_type": "markdown",
   "id": "vital-westminster",
   "metadata": {},
   "source": [
    "## Iterate through the DataLoader\n",
    "\n",
    "해당 데이터셋을 `DataLoader`에 담아서, 필요에 따라 데이터셋을 반복하여 로드하고 있습니다. 아래의 각 반복은 `train_feature`와 `train_label`의 묶음을 반환합니다(`batch_size=64`)하며, 모든 묶음에 걸쳐서 반복이 완료되면 데이터 위치는 섞입니다(데이터 순서를 더 미세하게 조절하고 싶다면 [Samplers](https://pytorch.org/docs/stable/data.html#data-loading-order-and-sampler>)를 참고하세요). "
   ]
  },
  {
   "cell_type": "code",
   "execution_count": 6,
   "id": "working-envelope",
   "metadata": {},
   "outputs": [
    {
     "name": "stdout",
     "output_type": "stream",
     "text": [
      "Feature batch shape: torch.Size([64, 1, 28, 28])\n",
      "Labels batch shape: torch.Size([64])\n"
     ]
    },
    {
     "data": {
      "image/png": "[encoded data removed]",
      "text/plain": [
       "<Figure size 432x288 with 1 Axes>"
      ]
     },
     "metadata": {
      "needs_background": "light"
     },
     "output_type": "display_data"
    },
    {
     "name": "stdout",
     "output_type": "stream",
     "text": [
      "Label: 5\n"
     ]
    }
   ],
   "source": [
    "# Display image and label.\n",
    "train_features, train_labels = next(iter(train_dataloader))\n",
    "print(f\"Feature batch shape: {train_features.size()}\")\n",
    "print(f\"Labels batch shape: {train_labels.size()}\")\n",
    "img = train_features[0].squeeze()\n",
    "label = train_labels[0]\n",
    "plt.imshow(img, cmap=\"gray\")\n",
    "plt.show()\n",
    "print(f\"Label: {label}\")"
   ]
  }
 ],
 "metadata": {
  "kernelspec": {
   "display_name": "Python 3 (ipykernel)",
   "language": "python",
   "name": "python3"
  },
  "language_info": {
   "codemirror_mode": {
    "name": "ipython",
    "version": 3
   },
   "file_extension": ".py",
   "mimetype": "text/x-python",
   "name": "python",
   "nbconvert_exporter": "python",
   "pygments_lexer": "ipython3",
   "version": "3.8.12"
  }
 },
 "nbformat": 4,
 "nbformat_minor": 5
}
