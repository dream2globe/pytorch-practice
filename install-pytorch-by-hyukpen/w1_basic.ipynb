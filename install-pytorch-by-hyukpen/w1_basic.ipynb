{
 "cells": [
  {
   "attachments": {},
   "cell_type": "markdown",
   "metadata": {},
   "source": [
    "## numpy와 닮은 pytorch"
   ]
  },
  {
   "cell_type": "code",
   "execution_count": 8,
   "metadata": {},
   "outputs": [],
   "source": [
    "import torch"
   ]
  },
  {
   "cell_type": "code",
   "execution_count": 9,
   "metadata": {},
   "outputs": [
    {
     "name": "stdout",
     "output_type": "stream",
     "text": [
      "tensor([1, 2, 3, 4])\n",
      "<class 'torch.Tensor'>\n",
      "torch.int64\n",
      "torch.Size([4])\n"
     ]
    }
   ],
   "source": [
    "a = torch.tensor([1, 2, 3, 4])\n",
    "print(a)\n",
    "print(type(a))\n",
    "print(a.dtype)\n",
    "print(a.shape)"
   ]
  },
  {
   "cell_type": "code",
   "execution_count": 10,
   "metadata": {},
   "outputs": [
    {
     "name": "stdout",
     "output_type": "stream",
     "text": [
      "tensor([1.0000, 2.0000, 3.1000, 4.0000])\n",
      "<class 'torch.Tensor'>\n",
      "torch.float32\n",
      "torch.Size([4])\n"
     ]
    }
   ],
   "source": [
    "b = torch.tensor([1, 2, 3.1, 4])\n",
    "print(b)\n",
    "print(type(b))\n",
    "print(b.dtype)\n",
    "print(b.shape)"
   ]
  },
  {
   "cell_type": "code",
   "execution_count": 16,
   "metadata": {},
   "outputs": [
    {
     "name": "stdout",
     "output_type": "stream",
     "text": [
      "tensor([[1, 2, 5],\n",
      "        [3, 4, 5]])\n",
      "<class 'torch.Tensor'>\n",
      "torch.int64\n",
      "2\n",
      "torch.Size([2, 3])\n",
      "torch.Size([2, 3])\n",
      "6\n"
     ]
    }
   ],
   "source": [
    "A = torch.tensor([[1, 2, 5], [3, 4, 5]])\n",
    "print(A)\n",
    "print(type(A))\n",
    "print(A.dtype)\n",
    "print(A.ndim)  # 차원 수\n",
    "print(A.shape) # 행렬 형태\n",
    "print(A.size())  # shape\n",
    "print(A.numel())  # 전체 성분 수"
   ]
  },
  {
   "cell_type": "code",
   "execution_count": 21,
   "metadata": {},
   "outputs": [
    {
     "name": "stdout",
     "output_type": "stream",
     "text": [
      "tensor([0., 0., 0., 0., 0.])\n",
      "tensor([[0., 0., 0.],\n",
      "        [0., 0., 0.],\n",
      "        [0., 0., 0.]])\n",
      "tensor([[0, 0, 0],\n",
      "        [0, 0, 0]])\n",
      "tensor([1., 1., 1., 1., 1.])\n",
      "tensor([3, 5, 7, 9])\n",
      "tensor([0.0000, 0.1000, 0.2000, 0.3000, 0.4000, 0.5000, 0.6000, 0.7000, 0.8000,\n",
      "        0.9000])\n",
      "tensor([0.0000, 0.1000, 0.2000, 0.3000, 0.4000, 0.5000, 0.6000, 0.7000, 0.8000,\n",
      "        0.9000, 1.0000])\n"
     ]
    }
   ],
   "source": [
    "print(torch.zeros(5))\n",
    "print(torch.zeros(3, 3))\n",
    "print(torch.zeros_like(A))\n",
    "print(torch.ones(5))\n",
    "print(torch.arange(3,10,2))\n",
    "print(torch.arange(0,1,0.1))\n",
    "print(torch.linspace(0,1,11)) # 0에서부터 1 포함 10개로 등분\n",
    "\n"
   ]
  },
  {
   "cell_type": "code",
   "execution_count": 22,
   "metadata": {},
   "outputs": [
    {
     "name": "stdout",
     "output_type": "stream",
     "text": [
      "tensor([[5, 7, 9],\n",
      "        [2, 3, 4]])\n",
      "tensor([[-3, -3, -3],\n",
      "        [ 0,  1,  2]])\n",
      "tensor([[ 4, 10, 18],\n",
      "        [ 1,  2,  3]])\n",
      "tensor([[0.2500, 0.4000, 0.5000],\n",
      "        [1.0000, 2.0000, 3.0000]])\n",
      "tensor([[1, 4, 9],\n",
      "        [1, 4, 9]])\n"
     ]
    }
   ],
   "source": [
    "A = torch.tensor([[1, 2, 3], [1, 2, 3]])\n",
    "B = torch.tensor([[4, 5, 6], [1, 1, 1]])\n",
    "print(A + B)\n",
    "print(A - B)\n",
    "print(A * B)  # Hadamard product\n",
    "print(A / B)\n",
    "print(A ** 2)"
   ]
  },
  {
   "cell_type": "code",
   "execution_count": 24,
   "metadata": {},
   "outputs": [
    {
     "name": "stdout",
     "output_type": "stream",
     "text": [
      "tensor([[4, 1],\n",
      "        [5, 1],\n",
      "        [6, 1]])\n",
      "tensor([[32,  6],\n",
      "        [32,  6]])\n"
     ]
    }
   ],
   "source": [
    "print(B.T)\n",
    "print(A @ B.T)  # 행렬 곱"
   ]
  },
  {
   "attachments": {},
   "cell_type": "markdown",
   "metadata": {},
   "source": [
    "## 다차원 행렬의 인덱싱"
   ]
  },
  {
   "cell_type": "code",
   "execution_count": 26,
   "metadata": {},
   "outputs": [
    {
     "name": "stdout",
     "output_type": "stream",
     "text": [
      "tensor([1, 2, 3])\n",
      "tensor([7, 8, 9])\n",
      "tensor([[4, 5, 6],\n",
      "        [7, 8, 9]])\n",
      "tensor(3)\n",
      "tensor(3)\n",
      "tensor([1, 3])\n",
      "tensor([3, 6, 9])\n",
      "tensor([7, 8, 9])\n"
     ]
    }
   ],
   "source": [
    "A = torch.tensor([[1, 2, 3], [4, 5, 6], [7, 8, 9]])\n",
    "print(A[0])\n",
    "print(A[-1])\n",
    "print(A[1:])\n",
    "print(A[0, 2])\n",
    "print(A[0][2])\n",
    "print(A[0, 0:3:2])\n",
    "print(A[:, 2])\n",
    "print(A[:][2]) # not equal to print(A[:, 2])"
   ]
  },
  {
   "cell_type": "code",
   "execution_count": 30,
   "metadata": {},
   "outputs": [
    {
     "name": "stdout",
     "output_type": "stream",
     "text": [
      "tensor([[[1, 2, 3],\n",
      "         [4, 5, 6],\n",
      "         [7, 8, 9]],\n",
      "\n",
      "        [[1, 2, 3],\n",
      "         [4, 5, 6],\n",
      "         [7, 8, 9]]])\n",
      "torch.Size([2, 3, 3])\n",
      "tensor(6)\n"
     ]
    }
   ],
   "source": [
    "A = torch.tensor([[[1, 2, 3], [4, 5, 6], [7, 8, 9]], \n",
    "                  [[1, 2, 3], [4, 5, 6], [7, 8, 9]]])\n",
    "\n",
    "print(A)\n",
    "print(A.shape)\n",
    "print(A[0,1,2])"
   ]
  },
  {
   "attachments": {},
   "cell_type": "markdown",
   "metadata": {},
   "source": [
    "### Boolean indexing"
   ]
  },
  {
   "cell_type": "code",
   "execution_count": 34,
   "metadata": {},
   "outputs": [
    {
     "name": "stdout",
     "output_type": "stream",
     "text": [
      "tensor([False, False,  True, False, False, False, False, False])\n",
      "tensor([3])\n",
      "tensor([  1,   2, 100,   4,   5,   6,   7,   8])\n"
     ]
    }
   ],
   "source": [
    "A = torch.tensor([1, 2, 3, 4, 5, 6, 7, 8])\n",
    "print(A == 3)\n",
    "print(A[A == 3])\n",
    "A[A == 3] = 100\n",
    "print(A)"
   ]
  },
  {
   "cell_type": "code",
   "execution_count": 35,
   "metadata": {},
   "outputs": [
    {
     "name": "stdout",
     "output_type": "stream",
     "text": [
      "tensor([[1, 2],\n",
      "        [5, 6]])\n"
     ]
    }
   ],
   "source": [
    "A = torch.tensor([[1, 2], [3, 4], [5, 6], [7, 8]])\n",
    "B = torch.tensor([True, False, True, False])\n",
    "print(A[B, :]) # True행만 가져옴"
   ]
  },
  {
   "attachments": {},
   "cell_type": "markdown",
   "metadata": {},
   "source": [
    "### Tensor indexing"
   ]
  },
  {
   "cell_type": "code",
   "execution_count": 47,
   "metadata": {},
   "outputs": [
    {
     "name": "stdout",
     "output_type": "stream",
     "text": [
      "tensor(3)\n",
      "tensor(3)\n",
      "tensor([3, 4, 5])\n",
      "tensor([[3, 3, 3],\n",
      "        [4, 4, 4]])\n",
      "tensor([[[1, 2, 3],\n",
      "         [4, 5, 6]],\n",
      "\n",
      "        [[4, 5, 6],\n",
      "         [4, 5, 6]]])\n"
     ]
    }
   ],
   "source": [
    "a = torch.tensor([1, 2, 3, 4, 5])\n",
    "A = a[2]\n",
    "print(A)\n",
    "\n",
    "A = a[torch.tensor(2)]\n",
    "print(A)\n",
    "\n",
    "A = a[torch.tensor([2, 3, 4])]\n",
    "print(A)\n",
    "\n",
    "A = a[torch.tensor([[2, 2, 2], [3, 3, 3]])]\n",
    "print(A)  # 인덱싱된 값으로 새 행렬을 만듬\n",
    "\n",
    "a = torch.tensor([[1, 2, 3], [4, 5, 6]])\n",
    "A = a[torch.tensor([[0, 1], [1, 1]])]  # 차원이 늘어나면서 표현됨, [0]은 [1, 2, 3]을 내포함\n",
    "print(A)\n",
    "\n"
   ]
  },
  {
   "attachments": {},
   "cell_type": "markdown",
   "metadata": {},
   "source": [
    "## pytorch 함수"
   ]
  },
  {
   "cell_type": "code",
   "execution_count": 51,
   "metadata": {},
   "outputs": [
    {
     "name": "stdout",
     "output_type": "stream",
     "text": [
      "tensor([[ 1.5515, -0.4081, -1.5469],\n",
      "        [-0.0956,  0.4713,  0.9904],\n",
      "        [-0.5527, -0.3118, -0.4483]])\n",
      "tensor([[0.1403, 0.1156, 0.5282],\n",
      "        [0.7838, 0.2832, 0.0523],\n",
      "        [0.3552, 0.7676, 0.5870]])\n",
      "tensor([[-0.0956,  0.4713,  0.9904],\n",
      "        [-0.5527, -0.3118, -0.4483]])\n"
     ]
    }
   ],
   "source": [
    "A = torch.randn(3, 3)  # normal\n",
    "B = torch.rand(3, 3)  # uniform\n",
    "print(A)\n",
    "print(B)\n",
    "print(A[A[:, 0]<0, :]) # 0 번째 열이 음수인 행"
   ]
  },
  {
   "cell_type": "code",
   "execution_count": 61,
   "metadata": {},
   "outputs": [
    {
     "name": "stdout",
     "output_type": "stream",
     "text": [
      "tensor([[ 1.5515, -0.4081, -1.5469],\n",
      "        [-0.0956,  0.4713,  0.9904],\n",
      "        [-0.5527, -0.3118, -0.4483]])\n",
      "tensor([[1.5515, 0.4081, 1.5469],\n",
      "        [0.0956, 0.4713, 0.9904],\n",
      "        [0.5527, 0.3118, 0.4483]])\n",
      "tensor([[1.2456, 0.6388, 1.2438],\n",
      "        [0.3092, 0.6865, 0.9952],\n",
      "        [0.7434, 0.5584, 0.6696]])\n",
      "tensor([[4.7187, 1.5039, 4.6970],\n",
      "        [1.1003, 1.6021, 2.6923],\n",
      "        [1.7379, 1.3659, 1.5657]])\n",
      "tensor([[ 0.4392, -0.8964,  0.4363],\n",
      "        [-2.3474, -0.7522, -0.0096],\n",
      "        [-0.5930, -1.1654, -0.8023]])\n",
      "tensor(1.)\n",
      "tensor([[ 0.1908, -0.3893,  0.1895],\n",
      "        [-1.0195, -0.3267, -0.0042],\n",
      "        [-0.2575, -0.5061, -0.3484]])\n",
      "tensor([[ 0.6337, -1.2932,  0.6294],\n",
      "        [-3.3867, -1.0851, -0.0139],\n",
      "        [-0.8555, -1.6814, -1.1574]])\n",
      "tensor([[ 2., -0., -2.],\n",
      "        [-0.,  0.,  1.],\n",
      "        [-1., -0., -0.]])\n",
      "tensor([[ 1.5500, -0.4100, -1.5500],\n",
      "        [-0.1000,  0.4700,  0.9900],\n",
      "        [-0.5500, -0.3100, -0.4500]])\n",
      "tensor([[ 1., -1., -2.],\n",
      "        [-1.,  0.,  0.],\n",
      "        [-1., -1., -1.]])\n",
      "tensor([[ 2., -0., -1.],\n",
      "        [-0.,  1.,  1.],\n",
      "        [-0., -0., -0.]])\n"
     ]
    }
   ],
   "source": [
    "print(A)\n",
    "print(torch.abs(A))\n",
    "print(torch.sqrt(torch.abs(A)))\n",
    "print(torch.exp(torch.abs(A)))\n",
    "print(torch.log(torch.abs(A)))\n",
    "print(torch.log(torch.exp(torch.tensor(1))))  # tensor 형만 인수로 사용할 수 있음\n",
    "print(torch.log10(torch.abs(A)))\n",
    "print(torch.log2(torch.abs(A)))\n",
    "print(torch.round(A))\n",
    "print(torch.round(A, decimals=2))\n",
    "print(torch.floor(A))\n",
    "print(torch.ceil(A))"
   ]
  },
  {
   "cell_type": "code",
   "execution_count": 66,
   "metadata": {},
   "outputs": [
    {
     "name": "stdout",
     "output_type": "stream",
     "text": [
      "tensor(0.5000)\n",
      "tensor(0.8660)\n",
      "tensor(0.5774)\n",
      "tensor(0.4805)\n",
      "<class 'float'>\n",
      "<class 'torch.Tensor'>\n"
     ]
    }
   ],
   "source": [
    "print(torch.sin(torch.tensor(torch.pi/6)))\n",
    "print(torch.cos(torch.tensor(torch.pi/6)))\n",
    "print(torch.tan(torch.tensor(torch.pi/6)))\n",
    "print(torch.tanh(torch.tensor(torch.pi/6)))\n",
    "\n",
    "print(type(torch.pi))\n",
    "print(type(torch.pi * torch.tensor(3)))  # tensor로 자동 바뀜"
   ]
  },
  {
   "cell_type": "code",
   "execution_count": 70,
   "metadata": {},
   "outputs": [
    {
     "name": "stdout",
     "output_type": "stream",
     "text": [
      "tensor(nan)\n",
      "tensor([False, False,  True, False, False])\n",
      "tensor([False, False,  True, False, False])\n"
     ]
    }
   ],
   "source": [
    "print(torch.log(torch.tensor(-1)))  # 실수가 아님\n",
    "print(torch.isnan(torch.tensor([1, 2, torch.nan, 3, 4])))  \n",
    "print(torch.isinf(torch.tensor([1, 2, torch.inf, 3, 4])))"
   ]
  },
  {
   "cell_type": "code",
   "execution_count": null,
   "metadata": {},
   "outputs": [],
   "source": []
  }
 ],
 "metadata": {
  "kernelspec": {
   "display_name": "pytorch",
   "language": "python",
   "name": "python3"
  },
  "language_info": {
   "codemirror_mode": {
    "name": "ipython",
    "version": 3
   },
   "file_extension": ".py",
   "mimetype": "text/x-python",
   "name": "python",
   "nbconvert_exporter": "python",
   "pygments_lexer": "ipython3",
   "version": "3.11.3"
  },
  "orig_nbformat": 4
 },
 "nbformat": 4,
 "nbformat_minor": 2
}
