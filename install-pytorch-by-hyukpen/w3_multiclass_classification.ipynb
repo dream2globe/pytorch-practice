{
 "cells": [
  {
   "cell_type": "code",
   "execution_count": 1,
   "metadata": {},
   "outputs": [],
   "source": [
    "import torch\n",
    "import matplotlib.pyplot as plt\n",
    "from torchvision import datasets, transforms\n",
    "\n",
    "device = \"cuda\" if torch.cuda.is_available() else \"cpu\""
   ]
  },
  {
   "attachments": {},
   "cell_type": "markdown",
   "metadata": {},
   "source": [
    "# Dataset 살펴보기"
   ]
  },
  {
   "cell_type": "code",
   "execution_count": 2,
   "metadata": {},
   "outputs": [],
   "source": [
    "transform = transforms.ToTensor()\n",
    "train_dataset = datasets.MNIST(root = \"./data\", train=True, download=True, transform=transform)\n",
    "test_dataset = datasets.MNIST(root = \"./data\", train=False, download=True, transform=transform)"
   ]
  },
  {
   "cell_type": "code",
   "execution_count": 3,
   "metadata": {},
   "outputs": [
    {
     "name": "stdout",
     "output_type": "stream",
     "text": [
      "Dataset MNIST\n",
      "    Number of datapoints: 60000\n",
      "    Root location: ./data\n",
      "    Split: Train\n",
      "    StandardTransform\n",
      "Transform: ToTensor()\n",
      "60000\n",
      "Dataset MNIST\n",
      "    Number of datapoints: 10000\n",
      "    Root location: ./data\n",
      "    Split: Test\n",
      "    StandardTransform\n",
      "Transform: ToTensor()\n",
      "10000\n"
     ]
    }
   ],
   "source": [
    "print(train_dataset)\n",
    "print(len(train_dataset))\n",
    "\n",
    "print(test_dataset)\n",
    "print(len(test_dataset))"
   ]
  },
  {
   "cell_type": "code",
   "execution_count": 4,
   "metadata": {},
   "outputs": [
    {
     "data": {
      "text/plain": [
       "['0 - zero',\n",
       " '1 - one',\n",
       " '2 - two',\n",
       " '3 - three',\n",
       " '4 - four',\n",
       " '5 - five',\n",
       " '6 - six',\n",
       " '7 - seven',\n",
       " '8 - eight',\n",
       " '9 - nine']"
      ]
     },
     "execution_count": 4,
     "metadata": {},
     "output_type": "execute_result"
    }
   ],
   "source": [
    "train_dataset.classes"
   ]
  },
  {
   "cell_type": "code",
   "execution_count": 5,
   "metadata": {},
   "outputs": [
    {
     "data": {
      "text/plain": [
       "{'0 - zero': 0,\n",
       " '1 - one': 1,\n",
       " '2 - two': 2,\n",
       " '3 - three': 3,\n",
       " '4 - four': 4,\n",
       " '5 - five': 5,\n",
       " '6 - six': 6,\n",
       " '7 - seven': 7,\n",
       " '8 - eight': 8,\n",
       " '9 - nine': 9}"
      ]
     },
     "execution_count": 5,
     "metadata": {},
     "output_type": "execute_result"
    }
   ],
   "source": [
    "train_dataset.class_to_idx"
   ]
  },
  {
   "cell_type": "code",
   "execution_count": 6,
   "metadata": {},
   "outputs": [
    {
     "data": {
      "text/plain": [
       "torch.Size([60000, 28, 28])"
      ]
     },
     "execution_count": 6,
     "metadata": {},
     "output_type": "execute_result"
    }
   ],
   "source": [
    "train_dataset.data.shape"
   ]
  },
  {
   "cell_type": "code",
   "execution_count": 7,
   "metadata": {},
   "outputs": [
    {
     "data": {
      "text/plain": [
       "<matplotlib.colorbar.Colorbar at 0x7f89017f69d0>"
      ]
     },
     "execution_count": 7,
     "metadata": {},
     "output_type": "execute_result"
    },
    {
     "data": {
      "image/png": "[encoded data removed]",
      "text/plain": [
       "<Figure size 640x480 with 2 Axes>"
      ]
     },
     "metadata": {},
     "output_type": "display_data"
    }
   ],
   "source": [
    "plt.imshow(train_dataset.data[0], cmap=\"gray\")\n",
    "plt.colorbar()"
   ]
  },
  {
   "cell_type": "code",
   "execution_count": 8,
   "metadata": {},
   "outputs": [
    {
     "name": "stdout",
     "output_type": "stream",
     "text": [
      "tensor([5, 0, 4,  ..., 5, 6, 8])\n",
      "torch.Size([60000])\n"
     ]
    }
   ],
   "source": [
    "print(train_dataset.targets)\n",
    "print(train_dataset.targets.shape)"
   ]
  },
  {
   "attachments": {},
   "cell_type": "markdown",
   "metadata": {},
   "source": [
    "# DataLoader 살펴보기"
   ]
  },
  {
   "cell_type": "code",
   "execution_count": 9,
   "metadata": {},
   "outputs": [],
   "source": [
    "batch_size = 32\n",
    "train_dataloader = torch.utils.data.DataLoader(train_dataset, batch_size=batch_size, shuffle=True)\n",
    "test_dataloader = torch.utils.data.DataLoader(test_dataset, batch_size=batch_size, shuffle=True)"
   ]
  },
  {
   "cell_type": "code",
   "execution_count": 10,
   "metadata": {},
   "outputs": [
    {
     "name": "stdout",
     "output_type": "stream",
     "text": [
      "60000\n"
     ]
    }
   ],
   "source": [
    "print(len(train_dataloader.dataset))"
   ]
  },
  {
   "cell_type": "code",
   "execution_count": 11,
   "metadata": {},
   "outputs": [
    {
     "name": "stdout",
     "output_type": "stream",
     "text": [
      "<class 'torch.Tensor'>\n",
      "<class 'torch.Tensor'>\n",
      "torch.Size([32, 1, 28, 28])\n",
      "torch.Size([32])\n",
      "tensor(2)\n",
      "torch.uint8\n",
      "torch.float32\n"
     ]
    },
    {
     "data": {
      "image/png": "[encoded data removed]",
      "text/plain": [
       "<Figure size 640x480 with 2 Axes>"
      ]
     },
     "metadata": {},
     "output_type": "display_data"
    }
   ],
   "source": [
    "# 배치 실행\n",
    "x_batch, y_batch = next(iter(train_dataloader))\n",
    "print(type(train_dataset.data))\n",
    "print(type(x_batch))\n",
    "print(x_batch.shape)\n",
    "print(y_batch.shape)\n",
    "plt.imshow(x_batch[0].squeeze(), cmap=\"gray\")\n",
    "plt.colorbar()\n",
    "print(y_batch[0])\n",
    "\n",
    "# 타입이 달라짐\n",
    "print(train_dataloader.dataset.data.dtype)\n",
    "print(x_batch.dtype)\n",
    "\n"
   ]
  },
  {
   "attachments": {},
   "cell_type": "markdown",
   "metadata": {},
   "source": [
    "# 모델 만들기"
   ]
  },
  {
   "cell_type": "code",
   "execution_count": 12,
   "metadata": {},
   "outputs": [],
   "source": [
    "from torch import nn\n",
    "\n",
    "class MLP(nn.Module):\n",
    "    def __init__(self):\n",
    "        super().__init__()\n",
    "\n",
    "        self.linear = nn.Sequential(\n",
    "            nn.Linear(28*28, 100),\n",
    "            nn.ReLU(),\n",
    "            nn.Linear(100, 100),\n",
    "            nn.ReLU(),\n",
    "            nn.Linear(100, 10)            \n",
    "        )\n",
    "        \n",
    "    def forward(self, x):\n",
    "        x = torch.flatten(x, start_dim=1)\n",
    "        x = self.linear(x)\n",
    "        return x\n",
    "    "
   ]
  },
  {
   "cell_type": "code",
   "execution_count": 13,
   "metadata": {},
   "outputs": [
    {
     "name": "stdout",
     "output_type": "stream",
     "text": [
      "torch.Size([32, 1, 28, 28])\n",
      "torch.Size([25088])\n",
      "torch.Size([32, 784])\n"
     ]
    }
   ],
   "source": [
    "# flatten\n",
    "x_batch, y_batch = next(iter(train_dataloader))\n",
    "print(x_batch.shape)\n",
    "flat_images = torch.flatten(x_batch)\n",
    "print(flat_images.shape)\n",
    "flat_images_2 = torch.flatten(x_batch, start_dim=1)\n",
    "print(flat_images_2.shape)\n"
   ]
  },
  {
   "cell_type": "code",
   "execution_count": 14,
   "metadata": {},
   "outputs": [
    {
     "name": "stdout",
     "output_type": "stream",
     "text": [
      "MLP(\n",
      "  (linear): Sequential(\n",
      "    (0): Linear(in_features=784, out_features=100, bias=True)\n",
      "    (1): ReLU()\n",
      "    (2): Linear(in_features=100, out_features=100, bias=True)\n",
      "    (3): ReLU()\n",
      "    (4): Linear(in_features=100, out_features=10, bias=True)\n",
      "  )\n",
      ")\n",
      "torch.Size([32, 10])\n"
     ]
    }
   ],
   "source": [
    "# create a model instance\n",
    "model = MLP().to(device)\n",
    "print(model)\n",
    "\n",
    "# model test\n",
    "x_batch, y_batch = next(iter(train_dataloader))\n",
    "print(model(x_batch.to(device)).shape)"
   ]
  },
  {
   "cell_type": "code",
   "execution_count": 15,
   "metadata": {},
   "outputs": [],
   "source": [
    "from torch import optim\n",
    "\n",
    "def train_model(model, criterion, optimizer, train_dataloader, epoch_num):\n",
    "    loss_hist = []\n",
    "    model.train()\n",
    "    for ep in range(epoch_num):\n",
    "        loss_r = 0  # running loss\n",
    "        for x_batch, y_batch in train_dataloader:\n",
    "            x_batch = x_batch.to(device)\n",
    "            y_batch = y_batch.to(device)\n",
    "            # inference\n",
    "            y_hat = model(x_batch)\n",
    "            # loss\n",
    "            loss = criterion(y_hat, y_batch)\n",
    "            # update\n",
    "            optimizer.zero_grad()\n",
    "            loss.backward()\n",
    "            optimizer.step()\n",
    "            # loss accumulation\n",
    "            loss_b = loss.item() * x_batch.shape[0]  # dataloader의 짜투리를 처리하기 유리함\n",
    "            loss_r += loss_b\n",
    "        # print loss        \n",
    "        loss_e = loss_r / len(train_dataloader.dataset)\n",
    "        loss_hist.append(loss_e)\n",
    "        print(f\"Epoch: {ep+1}, train loss: {round(loss_e, 3)}\")\n",
    "        print(\"_\" * 30)\n",
    "    return loss_hist\n",
    "    "
   ]
  },
  {
   "attachments": {},
   "cell_type": "markdown",
   "metadata": {},
   "source": [
    "### softmax"
   ]
  },
  {
   "cell_type": "code",
   "execution_count": 16,
   "metadata": {},
   "outputs": [
    {
     "name": "stdout",
     "output_type": "stream",
     "text": [
      "tensor([[ 0.7528, -1.3943, -0.2680, -0.4458, -0.8579],\n",
      "        [-0.8649,  0.2799,  0.1659,  0.7576, -0.0232],\n",
      "        [-0.0463, -0.1498, -0.7228,  1.1206,  1.7810]])\n",
      "tensor([2, 1, 4])\n",
      "tensor(1.2883)\n",
      "tensor(1.2883)\n",
      "tensor([[0.5054, 0.0590, 0.1821, 0.1525, 0.1010],\n",
      "        [0.0698, 0.2192, 0.1956, 0.3535, 0.1619],\n",
      "        [0.0845, 0.0762, 0.0429, 0.2713, 0.5251]])\n",
      "tensor(1.2883)\n"
     ]
    }
   ],
   "source": [
    "import torch.nn.functional as F\n",
    "\n",
    "y_hat = torch.randn(3, 5)  # 데이터는 3 개, 5 종류로 분류되는 문제 가정\n",
    "print(y_hat)\n",
    "\n",
    "y_batch = torch.randint(5, (3, ))  # 0~4에서 3개를 선택\n",
    "print(y_batch)\n",
    "\n",
    "# 방법 1\n",
    "loss = F.cross_entropy(y_hat, y_batch)  # softmax가 내장됨\n",
    "print(loss)\n",
    "\n",
    "# 방법 2\n",
    "criterion = nn.CrossEntropyLoss()  # softmax가 내장됨\n",
    "print(criterion(y_hat, y_batch))\n",
    "\n",
    "# 방법 3\n",
    "y_hat_soft = F.softmax(y_hat, dim=1)\n",
    "print(y_hat_soft)\n",
    "loss = 0\n",
    "for i, val in enumerate(y_hat_soft):\n",
    "    loss += -torch.log(val[y_batch[i]])\n",
    "print(loss/3)"
   ]
  },
  {
   "attachments": {},
   "cell_type": "markdown",
   "metadata": {},
   "source": [
    "# 모델 학습하기"
   ]
  },
  {
   "cell_type": "code",
   "execution_count": 17,
   "metadata": {},
   "outputs": [
    {
     "name": "stdout",
     "output_type": "stream",
     "text": [
      "Epoch: 1, train loss: 0.288\n",
      "______________________________\n",
      "Epoch: 2, train loss: 0.12\n",
      "______________________________\n",
      "Epoch: 3, train loss: 0.083\n",
      "______________________________\n",
      "Epoch: 4, train loss: 0.062\n",
      "______________________________\n",
      "Epoch: 5, train loss: 0.049\n",
      "______________________________\n",
      "Epoch: 6, train loss: 0.039\n",
      "______________________________\n",
      "Epoch: 7, train loss: 0.035\n",
      "______________________________\n",
      "Epoch: 8, train loss: 0.028\n",
      "______________________________\n",
      "Epoch: 9, train loss: 0.025\n",
      "______________________________\n",
      "Epoch: 10, train loss: 0.02\n",
      "______________________________\n",
      "Epoch: 11, train loss: 0.02\n",
      "______________________________\n",
      "Epoch: 12, train loss: 0.017\n",
      "______________________________\n",
      "Epoch: 13, train loss: 0.016\n",
      "______________________________\n",
      "Epoch: 14, train loss: 0.014\n",
      "______________________________\n",
      "Epoch: 15, train loss: 0.014\n",
      "______________________________\n",
      "Epoch: 16, train loss: 0.012\n",
      "______________________________\n",
      "Epoch: 17, train loss: 0.012\n",
      "______________________________\n",
      "Epoch: 18, train loss: 0.011\n",
      "______________________________\n",
      "Epoch: 19, train loss: 0.013\n",
      "______________________________\n",
      "Epoch: 20, train loss: 0.011\n",
      "______________________________\n",
      "Epoch: 21, train loss: 0.01\n",
      "______________________________\n",
      "Epoch: 22, train loss: 0.012\n",
      "______________________________\n",
      "Epoch: 23, train loss: 0.008\n",
      "______________________________\n",
      "Epoch: 24, train loss: 0.009\n",
      "______________________________\n",
      "Epoch: 25, train loss: 0.008\n",
      "______________________________\n",
      "Epoch: 26, train loss: 0.009\n",
      "______________________________\n",
      "Epoch: 27, train loss: 0.007\n",
      "______________________________\n",
      "Epoch: 28, train loss: 0.011\n",
      "______________________________\n",
      "Epoch: 29, train loss: 0.008\n",
      "______________________________\n",
      "Epoch: 30, train loss: 0.008\n",
      "______________________________\n"
     ]
    },
    {
     "data": {
      "text/plain": [
       "[<matplotlib.lines.Line2D at 0x7f88f8614550>]"
      ]
     },
     "execution_count": 17,
     "metadata": {},
     "output_type": "execute_result"
    },
    {
     "data": {
      "image/png": "[encoded data removed]",
      "text/plain": [
       "<Figure size 700x700 with 1 Axes>"
      ]
     },
     "metadata": {},
     "output_type": "display_data"
    }
   ],
   "source": [
    "learning_rate = 1e-3\n",
    "epoch_num = 30\n",
    "train_num = len(train_dataloader.dataset)\n",
    "\n",
    "model = MLP().to(device)  # 순서 중요\n",
    "\n",
    "criterion = nn.CrossEntropyLoss()\n",
    "optimizer = optim.Adam(model.parameters(), lr=learning_rate)  # model을 먼저 만들어야 함\n",
    "\n",
    "loss_hist = train_model(model, criterion, optimizer, train_dataloader, epoch_num)\n",
    "\n",
    "fig, ax = plt.subplots(1, 1, figsize=(7, 7))\n",
    "ax.plot(range(1, epoch_num+1), loss_hist)"
   ]
  },
  {
   "attachments": {},
   "cell_type": "markdown",
   "metadata": {},
   "source": [
    "# 모델 저장하기 & 불러오기"
   ]
  },
  {
   "cell_type": "code",
   "execution_count": 18,
   "metadata": {},
   "outputs": [
    {
     "data": {
      "text/plain": [
       "OrderedDict([('linear.0.weight',\n",
       "              tensor([[ 0.0354,  0.0280,  0.0062,  ...,  0.0251,  0.0023, -0.0160],\n",
       "                      [ 0.0352,  0.0303, -0.0087,  ...,  0.0049, -0.0111, -0.0051],\n",
       "                      [ 0.0225, -0.0313, -0.0337,  ...,  0.0041, -0.0167, -0.0040],\n",
       "                      ...,\n",
       "                      [-0.0053,  0.0332, -0.0147,  ..., -0.0300, -0.0246, -0.0026],\n",
       "                      [-0.0227, -0.0342,  0.0129,  ..., -0.0323,  0.0056,  0.0341],\n",
       "                      [ 0.0180, -0.0296, -0.0007,  ..., -0.0197,  0.0329,  0.0346]],\n",
       "                     device='cuda:0')),\n",
       "             ('linear.0.bias',\n",
       "              tensor([-1.1557e-01,  2.3098e-02, -2.9470e-01, -1.0347e-02,  2.2448e-01,\n",
       "                       4.8356e-02,  1.6527e-01,  1.5200e-01, -7.6151e-02, -6.9573e-02,\n",
       "                       6.3304e-03, -1.8506e-02,  9.4180e-02, -3.9999e-02, -2.1713e-02,\n",
       "                      -1.6950e-02, -2.7449e-02, -4.8284e-01,  2.1316e-01, -1.9298e-01,\n",
       "                       2.5551e-02, -2.3881e-01, -6.8979e-02,  4.6384e-02, -2.6126e-02,\n",
       "                      -2.5019e-03, -9.7095e-02,  4.5690e-02,  9.7767e-02,  1.1300e-01,\n",
       "                      -2.4406e-01, -4.7234e-02,  1.9928e-01, -1.3367e-01,  4.1439e-02,\n",
       "                      -1.1255e-01, -2.2439e-02,  1.0625e-01, -2.6914e-02,  2.5891e-01,\n",
       "                       3.4069e-04,  2.6644e-01, -3.5361e-02,  3.0482e-01,  3.7144e-02,\n",
       "                       1.9390e-01, -4.5105e-02, -2.2883e-02, -1.2067e-01,  1.7608e-01,\n",
       "                      -3.2433e-02, -3.9671e-02, -5.5194e-02, -3.8206e-02,  1.8908e-01,\n",
       "                       2.4770e-01, -3.0037e-01, -2.3814e-01, -2.6933e-01, -3.1917e-03,\n",
       "                       1.4494e-01,  1.2491e-01,  3.7971e-02,  7.0155e-03, -1.0431e-01,\n",
       "                      -5.9318e-02,  8.2744e-02,  1.6820e-01,  2.8835e-02, -7.1693e-02,\n",
       "                      -2.4237e-01, -2.4786e-01,  1.0671e-01,  1.7665e-01, -3.1871e-01,\n",
       "                       6.0373e-03, -2.6446e-01,  5.8879e-02,  3.0343e-02,  4.5575e-02,\n",
       "                      -1.3350e-01,  5.3430e-03, -4.5732e-02, -1.0152e-01,  1.2259e-02,\n",
       "                       7.7927e-02, -1.5624e-02,  1.9331e-01, -2.2133e-01, -3.1954e-01,\n",
       "                       2.9617e-01, -2.2231e-01, -1.9366e-01,  8.3273e-03,  3.1505e-01,\n",
       "                      -8.6961e-02, -2.0253e-02,  1.2908e-01, -1.6461e-01,  1.8914e-01],\n",
       "                     device='cuda:0')),\n",
       "             ('linear.2.weight',\n",
       "              tensor([[ 3.4233e-01,  2.6801e-01, -3.2712e-02,  ...,  2.5706e-01,\n",
       "                       -1.6899e-01,  7.3899e-01],\n",
       "                      [ 2.9397e-01, -3.3870e-01,  1.4222e-01,  ...,  1.2431e-01,\n",
       "                        1.8811e-01,  3.2456e-01],\n",
       "                      [ 2.8647e-01,  4.8848e-01, -4.0372e-01,  ...,  9.8294e-02,\n",
       "                       -2.9353e-01,  3.8005e-01],\n",
       "                      ...,\n",
       "                      [-4.0822e-01,  2.0584e-01, -8.9566e-02,  ...,  3.4303e-04,\n",
       "                        7.6328e-02,  9.0238e-03],\n",
       "                      [-2.8709e-01, -1.7031e-01,  2.7187e-03,  ...,  1.6547e-01,\n",
       "                       -1.6355e-01, -1.2081e+00],\n",
       "                      [-7.2559e-01,  7.7387e-01, -1.1762e-01,  ...,  5.2163e-02,\n",
       "                       -1.5712e-01, -4.2646e-01]], device='cuda:0')),\n",
       "             ('linear.2.bias',\n",
       "              tensor([ 0.0212,  0.0040, -0.0118,  0.2376,  0.3057,  0.2913,  0.2148,  0.1359,\n",
       "                       0.1186, -0.0807, -0.2250, -0.0423, -0.1187, -0.1278,  0.0327,  0.4435,\n",
       "                       0.3298,  0.2695,  0.0029,  0.0446,  0.0622,  0.1302,  0.1708,  0.1324,\n",
       "                       0.2789, -0.0442, -0.0210, -0.0396,  0.1404,  0.2700,  0.1810,  0.0414,\n",
       "                       0.1431, -0.0726, -0.0201,  0.0659,  0.0162,  0.4405,  0.0337,  0.0413,\n",
       "                      -0.0081, -0.1730,  0.2715,  0.1802,  0.0241, -0.1236, -0.1597, -0.0131,\n",
       "                      -0.0108, -0.1494,  0.2954,  0.1025,  0.0858,  0.2997,  0.1628,  0.0650,\n",
       "                      -0.3557, -0.2965, -0.0721, -0.0393,  0.0786,  0.0337, -0.1819, -0.1239,\n",
       "                      -0.0778,  0.1793,  0.0593, -0.0720,  0.2058, -0.2026,  0.0210,  0.0464,\n",
       "                       0.1333,  0.0355,  0.3715,  0.3272, -0.2568, -0.0330, -0.1959, -0.3261,\n",
       "                       0.0690,  0.0561,  0.2561, -0.3880, -0.0790, -0.0476,  0.0700,  0.0212,\n",
       "                      -0.1314,  0.2331, -0.0692, -0.0417,  0.0953, -0.0808, -0.1910,  0.2030,\n",
       "                      -0.0140, -0.1926,  0.3724, -0.1046], device='cuda:0')),\n",
       "             ('linear.4.weight',\n",
       "              tensor([[-3.2065e-01, -1.0972e-01, -1.6950e-02,  6.0066e-02,  1.4554e-01,\n",
       "                        2.1023e-01, -2.7313e-01, -3.0250e-01,  1.0142e-04,  5.2614e-02,\n",
       "                        1.6518e-01,  1.4475e-01,  1.0992e-01, -6.2880e-01, -1.4384e-01,\n",
       "                       -6.8949e-01,  2.0431e-01, -1.6435e-01,  9.6001e-02,  2.0836e-01,\n",
       "                       -4.9393e-01, -8.9665e-02, -1.4300e-01, -1.9393e-01,  1.5777e-01,\n",
       "                       -3.6200e-01,  1.5756e-02, -2.4460e-01,  2.0231e-01, -5.5455e-02,\n",
       "                       -5.8532e-01, -5.7981e-01, -6.4437e-01, -5.8638e-01,  1.6700e-01,\n",
       "                       -1.8321e-01,  1.6477e-01,  5.7395e-04,  1.9850e-01,  1.2926e-01,\n",
       "                        6.7932e-02,  2.1435e-01,  1.2381e-01,  1.6316e-01,  3.4130e-01,\n",
       "                        5.3995e-03,  1.7911e-01,  2.4273e-02,  1.9148e-01,  2.6625e-02,\n",
       "                        6.4368e-02, -3.0970e-01, -7.6703e-01,  1.9087e-01, -1.7937e-01,\n",
       "                        2.7427e-01, -9.9469e-02, -1.5842e-01,  5.0169e-02, -3.2679e-01,\n",
       "                       -4.5351e-01, -5.3310e-01, -5.7212e-01,  1.4726e-01, -6.4589e-01,\n",
       "                       -4.2254e-01,  1.9384e-01, -4.8394e-02,  1.6778e-01,  7.6957e-02,\n",
       "                        1.0125e-01, -3.0314e-01, -3.1095e-01,  1.7970e-01, -3.0211e-02,\n",
       "                       -5.2419e-01, -2.6599e-01, -7.5679e-01, -1.0332e-01, -9.9638e-02,\n",
       "                       -1.5774e-01,  1.2558e-01,  2.1449e-01, -5.6328e-02,  1.0498e-01,\n",
       "                        4.4451e-01, -1.3879e-01,  7.2210e-02, -4.6946e-01, -7.7510e-01,\n",
       "                       -3.4209e-01,  7.7489e-03, -3.5251e-01, -9.1475e-02, -5.2526e-01,\n",
       "                       -2.6247e-01,  1.6898e-01,  1.9519e-01,  8.7422e-02,  4.2369e-01],\n",
       "                      [-1.0598e-01,  1.5289e-01, -5.4643e-01, -1.1092e-01, -6.1588e-01,\n",
       "                       -1.1606e-01, -7.0667e-01, -3.5003e-01, -4.0394e-01, -2.9563e-01,\n",
       "                        7.2463e-01, -2.4186e-01, -1.3021e-01,  3.6680e-01, -5.8201e-01,\n",
       "                       -2.6989e-01,  1.1469e-01, -1.2832e-01, -5.5673e-01,  1.2488e-01,\n",
       "                        4.4046e-03, -1.0599e-01, -4.5235e-01, -3.2602e-01, -3.7598e-01,\n",
       "                        7.2209e-02, -1.4602e-01,  4.0696e-01, -7.9115e-02, -6.6358e-01,\n",
       "                        4.5861e-02,  1.6985e-01, -2.3315e-01,  1.3713e-01, -1.3129e-01,\n",
       "                        8.2300e-02,  4.3878e-02,  2.8048e-01, -6.5167e-01, -2.9728e-01,\n",
       "                       -7.2567e-03,  4.3573e-01, -8.1145e-02, -1.4208e+00, -3.1152e-01,\n",
       "                       -5.3699e-02,  8.5660e-02,  1.3821e-02, -5.6066e-01,  1.1576e-01,\n",
       "                        1.2515e-01, -3.7148e-01,  7.3787e-02, -7.2381e-02,  4.9460e-02,\n",
       "                        2.9660e-01,  2.5660e-01,  1.7566e-01, -2.7356e-01, -4.7940e-02,\n",
       "                        1.4031e-01, -3.1992e-01, -2.4349e-01,  5.8741e-02, -1.6633e-01,\n",
       "                       -1.6154e-03, -5.5342e-01, -2.1367e-02, -5.2428e-01,  1.9637e-01,\n",
       "                       -2.2076e-01,  4.3062e-01,  1.4379e-01, -3.3539e-03, -1.7353e-02,\n",
       "                       -5.7789e-01,  8.3150e-02,  1.6742e-01, -2.2824e-01, -1.5047e-04,\n",
       "                       -1.9987e-01, -7.5198e-01, -1.9351e-01, -1.1782e-01, -5.4431e-01,\n",
       "                       -6.4855e-01, -2.4972e-01, -1.4357e-01,  2.9526e-01,  1.8732e-01,\n",
       "                       -8.1794e-02, -4.2766e-01,  6.7086e-02, -7.9847e-02, -6.7574e-01,\n",
       "                        6.6757e-02, -8.6529e-01, -3.8391e-01, -3.4713e-01,  3.7062e-02],\n",
       "                      [ 1.7876e-01,  1.7707e-01,  3.4754e-01,  1.0940e-01,  8.4044e-02,\n",
       "                        8.2589e-02, -2.6497e-01,  3.5541e-02,  2.6049e-01,  1.6998e-01,\n",
       "                       -4.8545e-01,  1.7450e-01,  1.7507e-01,  1.5329e-01,  3.1497e-01,\n",
       "                       -2.0889e-01,  1.9620e-01,  6.8142e-02, -6.4538e-01, -1.7905e-01,\n",
       "                        1.9809e-01, -3.1706e-01, -1.6797e-02, -2.1439e-01,  2.0954e-01,\n",
       "                        1.8305e-01, -3.8643e-01, -7.1161e-01,  9.6317e-02,  6.7801e-02,\n",
       "                       -4.3023e-01,  9.7706e-02, -4.2758e-01, -6.5308e-01, -3.4267e-01,\n",
       "                       -1.6990e-01,  2.2712e-01, -3.2812e-01, -2.1418e-01, -4.8303e-02,\n",
       "                       -1.8967e-03, -6.9237e-01, -1.7494e-01, -5.4885e-01,  1.3220e-01,\n",
       "                       -1.2324e-01,  1.3729e-01, -1.9768e-01, -4.1985e-02, -1.6576e-02,\n",
       "                       -3.0876e-01,  1.7945e-01,  6.1534e-04, -2.5248e-01,  5.5208e-02,\n",
       "                       -2.4652e-01,  2.0154e-02,  2.6235e-01,  2.7405e-01,  2.4647e-01,\n",
       "                       -3.3311e-01,  3.4954e-01, -5.9674e-01, -7.6313e-02, -2.9253e-01,\n",
       "                        1.3329e-01, -3.2469e-01, -2.2805e-01,  1.2070e-01, -3.0477e-01,\n",
       "                       -7.2458e-01, -2.5811e-02, -2.7354e-01,  3.5970e-01, -2.6258e-01,\n",
       "                        6.6438e-02, -2.0098e-02, -4.2827e-01, -1.9369e-01,  3.7838e-02,\n",
       "                       -1.3585e-01,  1.1557e-01, -3.3069e-01,  3.7242e-02, -3.3056e-01,\n",
       "                       -5.8273e-01, -4.9833e-01, -2.1447e-01,  1.4055e-01,  1.8253e-01,\n",
       "                        7.2036e-01, -5.7447e-02,  6.8289e-02, -1.3515e-01,  8.7813e-02,\n",
       "                       -2.0924e-01,  1.4672e-01, -4.4392e-01,  8.8815e-02, -3.6283e-01],\n",
       "                      [ 1.1776e-01,  2.5096e-01, -2.1379e-01, -4.6630e-02,  1.1516e-01,\n",
       "                        9.1411e-02, -4.1584e-01,  1.6790e-01, -6.8621e-01, -7.8392e-02,\n",
       "                        1.2431e-02,  1.7863e-01, -9.2344e-03, -6.1876e-01, -3.1071e-01,\n",
       "                       -2.0454e-01, -9.6762e-02, -1.2118e-01, -4.3461e-01, -5.0604e-01,\n",
       "                        1.6441e-01, -1.8215e-02, -2.7865e-02,  2.9284e-01, -2.6173e-01,\n",
       "                        1.7124e-01, -3.3015e-01, -4.9872e-01,  9.0581e-02,  1.1622e-03,\n",
       "                        1.5511e-01,  9.4793e-02, -4.4828e-01, -6.9078e-02, -1.0069e-01,\n",
       "                        4.9308e-02, -5.3480e-02, -7.8509e-01, -3.0523e-01,  9.5222e-02,\n",
       "                        5.8162e-02, -8.0515e-01, -3.4710e-02,  3.0781e-01, -2.2377e-01,\n",
       "                        3.5291e-02,  2.6413e-01,  8.5723e-02,  8.5204e-02, -5.1365e-02,\n",
       "                       -2.1869e-02, -1.8455e-01,  4.9021e-02, -3.3814e-01,  2.3317e-01,\n",
       "                       -9.2278e-01,  3.5284e-01, -3.8303e-02, -2.3706e-01, -1.6054e-01,\n",
       "                        2.1613e-02,  4.3481e-02, -2.4266e-01, -3.5638e-01,  2.6858e-01,\n",
       "                        3.6847e-02, -4.8645e-01, -1.1846e+00,  1.1798e-01,  2.4367e-01,\n",
       "                        5.4230e-02, -3.8132e-01, -5.5187e-01, -3.0314e-01, -2.7627e-02,\n",
       "                       -1.1944e-01,  1.7445e-01,  1.4605e-01, -2.8244e-02,  1.8952e-01,\n",
       "                        1.3632e-01, -1.6331e-01, -1.9277e-01,  1.2093e-01, -1.1953e-01,\n",
       "                       -8.1799e-01, -3.5866e-02, -2.0212e-02, -1.1938e-01, -7.3312e-01,\n",
       "                       -6.3969e-01,  1.1944e-01, -6.7351e-01,  2.5296e-01,  3.1141e-01,\n",
       "                        9.9870e-02, -3.2324e-01, -1.2073e-01, -1.7867e-01, -2.5179e-01],\n",
       "                      [ 2.1409e-02, -1.6260e-01,  1.0654e-01,  1.6674e-01, -6.4837e-01,\n",
       "                       -4.4046e-01,  2.7483e-01, -1.1890e-01,  1.4099e-01, -1.6659e-01,\n",
       "                       -7.5465e-01, -3.0639e-01, -3.0665e-01, -1.6576e-01, -5.1863e-01,\n",
       "                        7.8353e-02, -6.8777e-01,  2.4777e-01, -3.6491e-01, -1.2305e-01,\n",
       "                        2.6316e-01,  7.2733e-02,  1.4108e-01, -1.9677e-01, -5.0748e-01,\n",
       "                       -5.1470e-01,  6.4380e-03,  1.5690e-01,  9.3527e-02,  9.6288e-02,\n",
       "                        1.7943e-01,  2.1420e-01,  7.6574e-02,  1.6183e-01, -4.3428e-01,\n",
       "                       -1.7411e-01, -2.1757e-01,  2.6124e-01, -3.4755e-02, -1.6064e-01,\n",
       "                       -4.2576e-01,  9.8310e-02, -4.4447e-01,  1.7746e-01,  2.6813e-01,\n",
       "                       -1.0614e-01, -2.0344e-01, -8.5590e-01,  1.3790e-01, -1.9735e-01,\n",
       "                        1.3762e-01,  1.7692e-01,  4.2359e-02, -3.2959e-01, -1.8109e-01,\n",
       "                        1.5104e-01, -5.5859e-01, -1.0764e-01, -4.5721e-02,  2.4007e-01,\n",
       "                       -9.5491e-02, -4.1019e-01, -2.6382e-01,  2.6061e-01, -5.5530e-02,\n",
       "                        1.0978e-01,  1.1071e-01, -9.0350e-02, -5.0616e-01, -4.1845e-01,\n",
       "                       -3.5654e-01,  3.4364e-01, -5.8585e-02,  8.9150e-02, -4.5120e-02,\n",
       "                        1.3911e-01, -5.5165e-01,  1.0298e-01,  5.4226e-02, -5.1098e-01,\n",
       "                       -3.0726e-01,  8.1628e-02,  1.0206e-01, -3.9152e-01,  5.1174e-02,\n",
       "                        1.0056e-01, -1.5731e-01, -6.2779e-01, -4.1705e-01,  2.0307e-01,\n",
       "                       -5.9867e-01,  1.8629e-01,  3.2932e-01,  9.2539e-02, -7.5515e-02,\n",
       "                        9.1852e-02, -5.3031e-01,  1.8061e-01, -1.3657e-02, -6.0644e-01],\n",
       "                      [ 1.7461e-01, -3.0349e-01,  1.9798e-01, -6.3788e-02, -3.9232e-02,\n",
       "                       -9.9525e-02, -3.2712e-02,  1.0067e-01,  1.0657e-01, -3.0635e-01,\n",
       "                        3.3760e-01, -2.3430e-01, -3.8530e-01,  2.8029e-03, -1.9453e-01,\n",
       "                       -1.3934e-01, -1.5390e-02, -1.8262e-01,  3.1571e-01, -2.9404e-01,\n",
       "                       -1.7292e-01, -2.0088e-01,  5.5442e-02, -1.4682e-01, -4.9359e-02,\n",
       "                       -5.1735e-02, -4.7620e-02, -5.2671e-01,  8.2341e-02, -1.9435e-01,\n",
       "                       -2.0263e-02, -2.9756e-01,  2.6628e-01,  8.8811e-02,  1.5959e-01,\n",
       "                       -9.6226e-01, -3.8261e-02, -7.5249e-01,  2.0261e-01,  4.7793e-02,\n",
       "                        1.4446e-01, -6.7165e-02,  1.6441e-01, -7.1536e-01, -6.4289e-01,\n",
       "                        9.6477e-03, -3.6672e-01,  3.4625e-01, -9.3015e-02, -7.1018e-01,\n",
       "                       -4.5801e-01,  9.0566e-02,  6.0081e-02, -2.3357e-02, -8.5271e-02,\n",
       "                       -2.1803e-01,  2.6970e-02,  4.4069e-02,  5.6096e-01,  1.9788e-01,\n",
       "                        1.5996e-01, -4.2725e-01,  2.8093e-01,  6.9537e-02,  1.0070e-01,\n",
       "                       -4.5917e-02,  7.5062e-02,  3.3689e-01,  6.0593e-02,  3.3907e-02,\n",
       "                        2.4419e-01,  1.9392e-01,  1.4184e-01, -1.3983e-01, -1.9204e-01,\n",
       "                        9.5090e-02,  2.5041e-01,  1.4123e-01, -2.1057e-02, -1.4886e-01,\n",
       "                        3.0963e-02, -6.2562e-01, -8.6293e-02, -1.7866e-01,  1.5867e-01,\n",
       "                       -1.9950e-01,  6.6391e-02,  1.3742e-01,  9.2370e-02, -4.2083e-01,\n",
       "                        1.4918e-01, -7.8528e-02,  3.0712e-01,  1.9952e-01, -2.7438e-01,\n",
       "                        1.2173e-01,  2.9241e-01, -3.0569e-01, -3.1472e-01, -5.1409e-02],\n",
       "                      [-4.1481e-02, -5.4107e-01, -2.3009e-01,  2.6128e-01, -1.5487e-01,\n",
       "                        8.0421e-02, -1.4692e-01, -4.8461e-01,  2.6165e-01, -5.1634e-01,\n",
       "                       -1.8722e-01,  3.6266e-02, -7.6517e-01, -1.8473e-01, -3.9003e-01,\n",
       "                       -4.4707e-01, -3.5697e-01, -2.4158e-01,  1.2708e-01,  2.0709e-02,\n",
       "                        3.3400e-01, -7.6814e-01, -5.3979e-01, -5.0113e-01,  2.3945e-02,\n",
       "                       -1.1446e-02,  4.0134e-01, -2.9437e-01, -3.1573e-02,  9.8628e-02,\n",
       "                       -2.6160e-01, -6.0255e-01,  4.5368e-02,  1.0776e-01,  1.3644e-01,\n",
       "                        3.2615e-01,  1.7660e-01, -4.7527e-01, -2.5622e-01,  1.5698e-02,\n",
       "                       -1.5352e-01, -2.7064e-01, -3.9503e-02,  4.7017e-02, -2.7605e-01,\n",
       "                        2.5348e-02, -3.6821e-02,  2.6326e-03,  1.7401e-02, -7.5681e-01,\n",
       "                       -3.6559e-01, -7.0703e-01, -7.3014e-01,  2.6882e-01, -1.9933e-02,\n",
       "                        3.7124e-01, -3.9058e-01,  6.4873e-02, -4.6269e-01, -9.0151e-02,\n",
       "                        1.8298e-01, -2.4074e-01,  2.2251e-01,  3.0664e-01, -9.3966e-01,\n",
       "                        5.8031e-02,  1.2748e-01, -7.4870e-01,  8.4477e-02,  1.2684e-01,\n",
       "                        2.7690e-01, -4.1688e-01,  1.7837e-01, -4.3360e-02, -4.7974e-01,\n",
       "                       -3.1947e-02, -1.6185e-01, -2.9659e-01, -1.2184e-01,  2.6620e-02,\n",
       "                        2.5584e-01,  1.3447e-02,  9.7447e-02, -5.1633e-01,  2.4780e-01,\n",
       "                       -3.7932e-01,  9.4392e-02,  2.2682e-01, -2.8808e-01,  1.3331e-01,\n",
       "                       -5.6896e-01,  2.1420e-01, -6.0958e-01, -4.9207e-01, -4.6630e-01,\n",
       "                       -4.0655e-01,  9.5800e-02, -3.1175e-01,  1.6080e-01,  1.4884e-02],\n",
       "                      [-8.1335e-01, -5.2082e-02,  1.2830e-01, -5.2452e-01, -2.0672e-01,\n",
       "                       -2.1638e-01, -2.1329e-01,  3.1416e-02,  5.4182e-02,  1.7210e-01,\n",
       "                       -3.4946e-01, -5.1179e-01,  9.8234e-02,  4.0680e-01, -4.3485e-02,\n",
       "                        6.5092e-02,  1.3606e-02, -6.4238e-01,  1.7784e-01,  2.3806e-01,\n",
       "                        4.2081e-02,  2.0074e-01,  8.8217e-02,  3.0420e-02, -3.4179e-01,\n",
       "                       -6.9611e-02, -8.1701e-01,  2.3106e-01, -6.8221e-01, -3.1276e-01,\n",
       "                       -5.0168e-01,  4.6482e-02, -9.4033e-02,  2.0761e-01, -2.9976e-02,\n",
       "                        1.1368e-01, -4.6541e-01, -2.1761e-01, -2.6564e-01, -2.0650e-01,\n",
       "                       -8.3117e-02,  2.5319e-01, -3.0476e-01,  6.2132e-02, -1.9361e-01,\n",
       "                       -1.2235e-01,  1.7748e-01,  1.2246e-01, -1.8573e-01,  8.3506e-02,\n",
       "                       -5.1481e-02,  2.1491e-01, -1.9257e-02, -1.3714e-02, -8.3880e-02,\n",
       "                       -4.0364e-02, -5.0876e-02,  3.0190e-01,  1.3853e-01, -1.3070e-01,\n",
       "                       -4.4265e-01,  3.1866e-01, -2.2080e-01, -7.8058e-01,  4.3350e-02,\n",
       "                        6.7726e-02,  1.2585e-01, -2.0169e-01, -3.3928e-01,  1.1086e-01,\n",
       "                       -9.8527e-02,  7.8677e-02, -7.7233e-01, -5.6463e-01, -1.2201e-01,\n",
       "                       -3.7890e-01,  2.5536e-03, -2.3743e-01, -1.4284e-01,  2.4393e-01,\n",
       "                       -6.4288e-01,  1.3417e-01, -4.4202e-01,  1.5751e-01, -1.7835e-01,\n",
       "                        3.0237e-01, -1.1743e-01, -1.3208e-01,  1.6221e-01,  4.6491e-02,\n",
       "                        2.0802e-03,  3.8753e-01,  2.0387e-01, -3.9584e-01,  1.9722e-01,\n",
       "                       -1.4908e-01, -1.5873e-01,  9.9322e-02, -3.7378e-01,  4.6557e-01],\n",
       "                      [-2.9452e-01, -7.5752e-02, -8.3069e-01,  1.8086e-01,  2.0409e-01,\n",
       "                        2.1908e-01, -1.5571e-01,  9.6117e-02, -3.5126e-01,  4.6089e-03,\n",
       "                       -4.4929e-01,  3.5672e-02,  1.4595e-02, -5.8478e-01,  1.0782e-01,\n",
       "                        3.3236e-01,  2.6209e-01, -6.0441e-01, -5.2414e-01, -2.4901e-01,\n",
       "                       -5.1474e-01,  3.2753e-02,  5.3877e-02,  2.1230e-01,  1.7987e-01,\n",
       "                        1.4588e-01, -2.9692e-01, -4.6177e-01,  1.9372e-01,  2.1912e-01,\n",
       "                        8.5278e-02, -1.0424e-01,  2.7799e-01, -1.2161e-01, -2.4184e-02,\n",
       "                        9.0271e-02, -4.2312e-01,  4.4280e-02, -9.0044e-02,  5.8049e-02,\n",
       "                        1.3952e-02, -4.5318e-01,  9.6817e-02, -4.5066e-01, -1.9338e-01,\n",
       "                       -4.4669e-02,  1.2572e-01,  7.2490e-02, -5.5166e-01, -4.6760e-02,\n",
       "                        1.8912e-01, -5.8950e-01,  8.2405e-02,  1.1605e-01,  1.7812e-01,\n",
       "                        2.5445e-01, -3.2561e-01, -6.1302e-01,  4.5011e-02, -3.9537e-01,\n",
       "                        1.2423e-01, -4.0784e-02, -1.7362e-01, -3.3557e-01,  1.0473e-01,\n",
       "                        1.4582e-01, -1.3527e-01, -8.8101e-02,  2.6272e-02, -2.2723e-01,\n",
       "                       -2.1371e-01, -4.2213e-01,  1.6150e-01, -7.1612e-01,  1.4455e-01,\n",
       "                        2.5813e-01, -2.0814e-02,  5.9289e-02,  5.0354e-02, -2.7087e-01,\n",
       "                        8.7917e-02,  1.6099e-02,  7.7183e-02, -6.0631e-02, -1.2317e-01,\n",
       "                       -1.1468e-01,  8.6808e-02,  1.3809e-01,  1.9066e-02,  7.2591e-02,\n",
       "                       -5.7564e-01, -1.1281e-01, -1.0336e-01, -3.6322e-01, -3.9687e-01,\n",
       "                        1.2357e-01, -6.7094e-02, -2.0178e-01,  8.8774e-02, -2.3064e-01],\n",
       "                      [ 7.1285e-02,  1.8960e-01,  3.5370e-02, -4.1329e-01, -1.5141e-01,\n",
       "                       -1.0156e+00,  3.2398e-01,  1.8670e-01, -5.3582e-02,  1.2405e-01,\n",
       "                       -6.5647e-02, -1.6395e-01,  1.2939e-01, -3.1420e-01,  2.6437e-01,\n",
       "                        2.0962e-01, -4.5991e-01,  3.5480e-01, -2.9219e-01,  2.6000e-01,\n",
       "                       -7.4146e-01,  2.1595e-01,  1.8131e-01,  2.0563e-01, -1.2830e-01,\n",
       "                       -3.2891e-01,  2.5075e-01,  2.0814e-01, -3.4007e-01, -1.0795e-01,\n",
       "                        1.1047e-01, -8.3992e-02, -9.7992e-02,  1.5893e-01,  1.0657e-01,\n",
       "                        6.5202e-02, -4.5091e-01,  2.7748e-01, -5.0386e-02, -4.3467e-01,\n",
       "                       -3.7298e-01, -5.8782e-03, -2.5471e-01,  1.2751e-02,  3.3883e-02,\n",
       "                       -4.8229e-02, -6.2606e-01, -9.4162e-02,  1.8875e-01,  1.6429e-01,\n",
       "                       -4.6520e-03,  1.2641e-01,  9.9049e-02, -1.4635e-01, -3.8965e-01,\n",
       "                       -6.7433e-01, -3.4704e-01, -5.1551e-01, -2.7834e-01, -2.6438e-01,\n",
       "                       -1.8437e-01, -2.4249e-01, -3.9108e-01, -4.9317e-01,  1.4305e-01,\n",
       "                       -3.9116e-01,  2.0757e-01,  1.0631e-02,  1.0449e-01, -2.7010e-01,\n",
       "                       -1.4478e-01, -3.5756e-01,  5.2001e-02,  1.3089e-01,  1.5109e-01,\n",
       "                        6.9859e-02, -7.7489e-01,  2.0608e-01, -7.5984e-03, -8.9593e-01,\n",
       "                       -2.7147e-01,  6.5469e-02,  1.3362e-01,  8.3134e-02,  2.4541e-02,\n",
       "                       -1.1039e-01,  6.7641e-02,  8.4224e-04, -2.1127e-01,  3.2799e-02,\n",
       "                       -2.4909e-01, -6.4586e-01, -1.7792e-01,  1.8985e-01,  2.7871e-02,\n",
       "                       -1.3963e-01,  1.2997e-01,  1.1970e-01,  4.8846e-02, -4.0156e-01]],\n",
       "                     device='cuda:0')),\n",
       "             ('linear.4.bias',\n",
       "              tensor([-0.1879, -0.2886, -0.1181, -0.0096, -0.0306,  0.0370, -0.1221, -0.3622,\n",
       "                       0.6194,  0.1993], device='cuda:0'))])"
      ]
     },
     "execution_count": 18,
     "metadata": {},
     "output_type": "execute_result"
    }
   ],
   "source": [
    "path = \"./model/MLP_MNIST.pt\"\n",
    "torch.save(model.state_dict(), path)\n",
    "model.state_dict()"
   ]
  },
  {
   "cell_type": "code",
   "execution_count": 19,
   "metadata": {},
   "outputs": [
    {
     "data": {
      "text/plain": [
       "<All keys matched successfully>"
      ]
     },
     "execution_count": 19,
     "metadata": {},
     "output_type": "execute_result"
    }
   ],
   "source": [
    "load_model = MLP().to(device)\n",
    "load_model.load_state_dict(torch.load(path, map_location=device))"
   ]
  },
  {
   "cell_type": "markdown",
   "metadata": {},
   "source": [
    "## 모델 테스트"
   ]
  },
  {
   "cell_type": "code",
   "execution_count": 21,
   "metadata": {},
   "outputs": [
    {
     "name": "stdout",
     "output_type": "stream",
     "text": [
      "Test accuracy: 98.1\n"
     ]
    }
   ],
   "source": [
    "model.eval()\n",
    "with torch.no_grad():\n",
    "    correct_run = 0\n",
    "    for x_batch, y_batch in test_dataloader:\n",
    "        x_batch = x_batch.to(device)\n",
    "        y_batch = y_batch.to(device)\n",
    "        # inference\n",
    "        y_hat = model(x_batch)\n",
    "        # accuracy accumulation\n",
    "        pred = y_hat.argmax(dim=1)\n",
    "        correct_run += torch.sum(pred == y_batch).item()\n",
    "    acc = correct_run/len(test_dataloader.dataset)*100\n",
    "    print(f\"Test accuracy: {acc}\")"
   ]
  }
 ],
 "metadata": {
  "kernelspec": {
   "display_name": "pytorch",
   "language": "python",
   "name": "python3"
  },
  "language_info": {
   "codemirror_mode": {
    "name": "ipython",
    "version": 3
   },
   "file_extension": ".py",
   "mimetype": "text/x-python",
   "name": "python",
   "nbconvert_exporter": "python",
   "pygments_lexer": "ipython3",
   "version": "3.11.3"
  },
  "orig_nbformat": 4
 },
 "nbformat": 4,
 "nbformat_minor": 2
}
